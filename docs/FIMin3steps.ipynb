{
 "cells": [
  {
   "cell_type": "markdown",
   "metadata": {},
   "source": [
    "<h2 style=\"font-family: 'CMU Serif', serif; color: #000000;\">\n",
    "  OWP HAND-FIM 'as a service' (FIMserv)\n",
    "</h2>\n",
    "<h5 style=\"font-family: 'CMU Serif', serif; color: #000000;\">\n",
    "  This package presents a streamlined, user-friendly and cloud-enabled pipeline to generate Operational flood inundation maps using the NOAA Office of Water Prediction (OWP) Height Above Nearest Drainage (HAND) Flood Inundation Mapping (FIM) framework using the National Water Model retrospective and forecasted streamflow. It is developed under the Surface Dynamics Modeling Lab (SDML) as part of a project funded by the Cooperative Institute for Research to Operations in Hydrology (CIROH).\n",
    "</h5>\n",
    "<h5 style=\"font-family: 'CMU Serif', serif; color: #000000;\">\n",
    "  These steps can be completed in only 3 steps:\n",
    "</h5>\n",
    "<ol style=\"font-family: 'CMU Serif', serif; color: #000000;\">\n",
    "  <li>Download HUC 8 (Hydrologic Unit Code 8) rasters</li>\n",
    "  <li>Download the National Water Model (NWM) retrospective streamflow</li>\n",
    "  <li>Generate the Flood Inundation Map (FIM)</li>\n",
    "</ol>\n",
    "\n",
    "</h5>\n",
    "<h5 style=\"font-family: 'CMU Serif', serif; color: #000000;\">\n",
    "  Note: This is the same code usage to generate FIM in 3 step for 1 HUC8, user can always use this for numbers of HUC8 using loop. This is generalized, so there will not be any issue with any numbers of HUC.\n",
    "</h5>\n"
   ]
  },
  {
   "cell_type": "code",
   "execution_count": 9,
   "metadata": {},
   "outputs": [
    {
     "data": {
      "text/html": [
       "\n",
       "            <style>\n",
       "                .geemap-dark {\n",
       "                    --jp-widgets-color: white;\n",
       "                    --jp-widgets-label-color: white;\n",
       "                    --jp-ui-font-color1: white;\n",
       "                    --jp-layout-color2: #454545;\n",
       "                    background-color: #383838;\n",
       "                }\n",
       "\n",
       "                .geemap-dark .jupyter-button {\n",
       "                    --jp-layout-color3: #383838;\n",
       "                }\n",
       "\n",
       "                .geemap-colab {\n",
       "                    background-color: var(--colab-primary-surface-color, white);\n",
       "                }\n",
       "\n",
       "                .geemap-colab .jupyter-button {\n",
       "                    --jp-layout-color3: var(--colab-primary-surface-color, white);\n",
       "                }\n",
       "            </style>\n",
       "            "
      ],
      "text/plain": [
       "<IPython.core.display.HTML object>"
      ]
     },
     "metadata": {},
     "output_type": "display_data"
    }
   ],
   "source": [
    "#Install the FIMserv package\n",
    "%pip install fimserve"
   ]
  },
  {
   "cell_type": "code",
   "execution_count": 3,
   "metadata": {},
   "outputs": [],
   "source": [
    "#Import fimserve package\n",
    "import fimserve as fm   # type: ignore"
   ]
  },
  {
   "cell_type": "code",
   "execution_count": 4,
   "metadata": {},
   "outputs": [
    {
     "data": {
      "text/html": [
       "\n",
       "            <style>\n",
       "                .geemap-dark {\n",
       "                    --jp-widgets-color: white;\n",
       "                    --jp-widgets-label-color: white;\n",
       "                    --jp-ui-font-color1: white;\n",
       "                    --jp-layout-color2: #454545;\n",
       "                    background-color: #383838;\n",
       "                }\n",
       "\n",
       "                .geemap-dark .jupyter-button {\n",
       "                    --jp-layout-color3: #383838;\n",
       "                }\n",
       "\n",
       "                .geemap-colab {\n",
       "                    background-color: var(--colab-primary-surface-color, white);\n",
       "                }\n",
       "\n",
       "                .geemap-colab .jupyter-button {\n",
       "                    --jp-layout-color3: var(--colab-primary-surface-color, white);\n",
       "                }\n",
       "            </style>\n",
       "            "
      ],
      "text/plain": [
       "<IPython.core.display.HTML object>"
      ]
     },
     "metadata": {},
     "output_type": "display_data"
    }
   ],
   "source": [
    "# Initialize necessary variables\n",
    "huc = \"03020202\"        #HUC of the watershed\n",
    "start_date = \"2016-10-08\"   #Start date of the streamflow data user want to get\n",
    "end_date = \"2016-10-10\"     #End date of the streamflow data user want to get\n",
    "\n",
    "value_time = [\"2016-10-09 03:00:00\"]   #Time of the streamflow data user want to generate FIM within start_date and end_date"
   ]
  },
  {
   "cell_type": "markdown",
   "metadata": {},
   "source": [
    "<h3 style=\"font-family: 'CMU Serif', serif; color: #000000;\">\n",
    "  Step 1: Download HUC8\n",
    "</h3>"
   ]
  },
  {
   "cell_type": "code",
   "execution_count": 5,
   "metadata": {},
   "outputs": [
    {
     "data": {
      "text/html": [
       "\n",
       "            <style>\n",
       "                .geemap-dark {\n",
       "                    --jp-widgets-color: white;\n",
       "                    --jp-widgets-label-color: white;\n",
       "                    --jp-ui-font-color1: white;\n",
       "                    --jp-layout-color2: #454545;\n",
       "                    background-color: #383838;\n",
       "                }\n",
       "\n",
       "                .geemap-dark .jupyter-button {\n",
       "                    --jp-layout-color3: #383838;\n",
       "                }\n",
       "\n",
       "                .geemap-colab {\n",
       "                    background-color: var(--colab-primary-surface-color, white);\n",
       "                }\n",
       "\n",
       "                .geemap-colab .jupyter-button {\n",
       "                    --jp-layout-color3: var(--colab-primary-surface-color, white);\n",
       "                }\n",
       "            </style>\n",
       "            "
      ],
      "text/plain": [
       "<IPython.core.display.HTML object>"
      ]
     },
     "metadata": {},
     "output_type": "display_data"
    },
    {
     "name": "stderr",
     "output_type": "stream",
     "text": [
      "Cloning into '/Users/supath/Downloads/MSResearch/CNN/docs/FIMin3Steps/code/inunation-mapping'...\n"
     ]
    },
    {
     "name": "stdout",
     "output_type": "stream",
     "text": [
      "Repository cloned into: /Users/supath/Downloads/MSResearch/CNN/docs/FIMin3Steps/code/inunation-mapping\n",
      "download: s3://ciroh-owp-hand-fim/hand_fim_4_5_2_11/03020202/branch_ids.csv to output/flood_03020202/03020202/branch_ids.csv\n",
      "download: s3://ciroh-owp-hand-fim/hand_fim_4_5_2_11/03020202/branch_ids.lst to output/flood_03020202/03020202/branch_ids.lst\n",
      "download: s3://ciroh-owp-hand-fim/hand_fim_4_5_2_11/03020202/branch_polygons.gpkg to output/flood_03020202/03020202/branch_polygons.gpkg\n",
      "download: s3://ciroh-owp-hand-fim/hand_fim_4_5_2_11/03020202/branches/0/osm_bridge_centroids_0.gpkg to output/flood_03020202/03020202/branches/0/osm_bridge_centroids_0.gpkg\n",
      "download: s3://ciroh-owp-hand-fim/hand_fim_4_5_2_11/03020202/branches/0/small_segments_0.csv to output/flood_03020202/03020202/branches/0/small_segments_0.csv\n",
      "download: s3://ciroh-owp-hand-fim/hand_fim_4_5_2_11/03020202/branches/0/gw_catchments_reaches_filtered_addedAttributes_0.tif to output/flood_03020202/03020202/branches/0/gw_catchments_reaches_filtered_addedAttributes_0.tif\n",
      "download: s3://ciroh-owp-hand-fim/hand_fim_4_5_2_11/03020202/branches/0/demDerived_reaches_split_filtered_addedAttributes_crosswalked_0.gpkg to output/flood_03020202/03020202/branches/0/demDerived_reaches_split_filtered_addedAttributes_crosswalked_0.gpkg\n",
      "download: s3://ciroh-owp-hand-fim/hand_fim_4_5_2_11/03020202/branches/0/gw_catchments_reaches_filtered_addedAttributes_crosswalked_0.gpkg to output/flood_03020202/03020202/branches/0/gw_catchments_reaches_filtered_addedAttributes_crosswalked_0.gpkg\n",
      "download: s3://ciroh-owp-hand-fim/hand_fim_4_5_2_11/03020202/branches/0/gw_catchments_reaches_filtered_addedAttributes_0.gpkg to output/flood_03020202/03020202/branches/0/gw_catchments_reaches_filtered_addedAttributes_0.gpkg\n",
      "download: s3://ciroh-owp-hand-fim/hand_fim_4_5_2_11/03020202/branches/0/src_base_0.csv to output/flood_03020202/03020202/branches/0/src_base_0.csv\n",
      "download: s3://ciroh-owp-hand-fim/hand_fim_4_5_2_11/03020202/branches/0/user_supplied_n_vals_0.csv to output/flood_03020202/03020202/branches/0/user_supplied_n_vals_0.csv\n",
      "download: s3://ciroh-owp-hand-fim/hand_fim_4_5_2_11/03020202/branches/0/usgs_elev_table.csv to output/flood_03020202/03020202/branches/0/usgs_elev_table.csv\n",
      "download: s3://ciroh-owp-hand-fim/hand_fim_4_5_2_11/03020202/branches/1097000024/demDerived_reaches_split_filtered_addedAttributes_crosswalked_1097000024.gpkg to output/flood_03020202/03020202/branches/1097000024/demDerived_reaches_split_filtered_addedAttributes_crosswalked_1097000024.gpkg\n",
      "download: s3://ciroh-owp-hand-fim/hand_fim_4_5_2_11/03020202/branches/1097000024/gw_catchments_reaches_filtered_addedAttributes_1097000024.tif to output/flood_03020202/03020202/branches/1097000024/gw_catchments_reaches_filtered_addedAttributes_1097000024.tif\n",
      "download: s3://ciroh-owp-hand-fim/hand_fim_4_5_2_11/03020202/branches/0/hydroTable_0.csv to output/flood_03020202/03020202/branches/0/hydroTable_0.csv\n",
      "download: s3://ciroh-owp-hand-fim/hand_fim_4_5_2_11/03020202/branches/1097000024/osm_bridge_centroids_1097000024.gpkg to output/flood_03020202/03020202/branches/1097000024/osm_bridge_centroids_1097000024.gpkg\n",
      "download: s3://ciroh-owp-hand-fim/hand_fim_4_5_2_11/03020202/branches/1097000024/gw_catchments_reaches_filtered_addedAttributes_crosswalked_1097000024.gpkg to output/flood_03020202/03020202/branches/1097000024/gw_catchments_reaches_filtered_addedAttributes_crosswalked_1097000024.gpkg\n",
      "download: s3://ciroh-owp-hand-fim/hand_fim_4_5_2_11/03020202/branches/1097000024/src_base_1097000024.csv to output/flood_03020202/03020202/branches/1097000024/src_base_1097000024.csv\n",
      "download: s3://ciroh-owp-hand-fim/hand_fim_4_5_2_11/03020202/branches/1097000024/hydroTable_1097000024.csv to output/flood_03020202/03020202/branches/1097000024/hydroTable_1097000024.csv\n",
      "download: s3://ciroh-owp-hand-fim/hand_fim_4_5_2_11/03020202/branches/1097000024/usgs_elev_table.csv to output/flood_03020202/03020202/branches/1097000024/usgs_elev_table.csv\n",
      "download: s3://ciroh-owp-hand-fim/hand_fim_4_5_2_11/03020202/branches/1097000031/backpool_stats.csv to output/flood_03020202/03020202/branches/1097000031/backpool_stats.csv\n",
      "download: s3://ciroh-owp-hand-fim/hand_fim_4_5_2_11/03020202/branches/1097000024/src_full_crosswalked_1097000024.csv to output/flood_03020202/03020202/branches/1097000024/src_full_crosswalked_1097000024.csv\n",
      "download: s3://ciroh-owp-hand-fim/hand_fim_4_5_2_11/03020202/branches/1097000031/demDerived_reaches_split_filtered_addedAttributes_crosswalked_1097000031.gpkg to output/flood_03020202/03020202/branches/1097000031/demDerived_reaches_split_filtered_addedAttributes_crosswalked_1097000031.gpkg\n",
      "download: s3://ciroh-owp-hand-fim/hand_fim_4_5_2_11/03020202/branches/1097000031/gw_catchments_pixels_1097000031.gpkg to output/flood_03020202/03020202/branches/1097000031/gw_catchments_pixels_1097000031.gpkg\n",
      "download: s3://ciroh-owp-hand-fim/hand_fim_4_5_2_11/03020202/branches/1097000024/user_supplied_n_vals_1097000024.csv to output/flood_03020202/03020202/branches/1097000024/user_supplied_n_vals_1097000024.csv\n",
      "download: s3://ciroh-owp-hand-fim/hand_fim_4_5_2_11/03020202/branches/1097000031/gw_catchments_reaches_filtered_addedAttributes_1097000031.tif to output/flood_03020202/03020202/branches/1097000031/gw_catchments_reaches_filtered_addedAttributes_1097000031.tif\n",
      "download: s3://ciroh-owp-hand-fim/hand_fim_4_5_2_11/03020202/branches/1097000031/hydroTable_1097000031.csv to output/flood_03020202/03020202/branches/1097000031/hydroTable_1097000031.csv\n",
      "download: s3://ciroh-owp-hand-fim/hand_fim_4_5_2_11/03020202/branches/1097000031/gw_catchments_reaches_filtered_addedAttributes_crosswalked_1097000031.gpkg to output/flood_03020202/03020202/branches/1097000031/gw_catchments_reaches_filtered_addedAttributes_crosswalked_1097000031.gpkg\n",
      "download: s3://ciroh-owp-hand-fim/hand_fim_4_5_2_11/03020202/branches/0/src_full_crosswalked_0.csv to output/flood_03020202/03020202/branches/0/src_full_crosswalked_0.csv\n",
      "download: s3://ciroh-owp-hand-fim/hand_fim_4_5_2_11/03020202/branches/1097000031/osm_bridge_centroids_1097000031.gpkg to output/flood_03020202/03020202/branches/1097000031/osm_bridge_centroids_1097000031.gpkg\n",
      "download: s3://ciroh-owp-hand-fim/hand_fim_4_5_2_11/03020202/branches/1097000031/src_base_1097000031.csv to output/flood_03020202/03020202/branches/1097000031/src_base_1097000031.csv\n",
      "download: s3://ciroh-owp-hand-fim/hand_fim_4_5_2_11/03020202/branches/1097000033/backpool_stats.csv to output/flood_03020202/03020202/branches/1097000033/backpool_stats.csv\n",
      "download: s3://ciroh-owp-hand-fim/hand_fim_4_5_2_11/03020202/branches/1097000031/src_full_crosswalked_1097000031.csv to output/flood_03020202/03020202/branches/1097000031/src_full_crosswalked_1097000031.csv\n",
      "download: s3://ciroh-owp-hand-fim/hand_fim_4_5_2_11/03020202/branches/1097000033/demDerived_reaches_split_filtered_addedAttributes_crosswalked_1097000033.gpkg to output/flood_03020202/03020202/branches/1097000033/demDerived_reaches_split_filtered_addedAttributes_crosswalked_1097000033.gpkg\n",
      "download: s3://ciroh-owp-hand-fim/hand_fim_4_5_2_11/03020202/branches/1097000033/gw_catchments_reaches_filtered_addedAttributes_crosswalked_1097000033.gpkg to output/flood_03020202/03020202/branches/1097000033/gw_catchments_reaches_filtered_addedAttributes_crosswalked_1097000033.gpkg\n",
      "download: s3://ciroh-owp-hand-fim/hand_fim_4_5_2_11/03020202/branches/1097000033/osm_bridge_centroids_1097000033.gpkg to output/flood_03020202/03020202/branches/1097000033/osm_bridge_centroids_1097000033.gpkg\n",
      "download: s3://ciroh-owp-hand-fim/hand_fim_4_5_2_11/03020202/branches/1097000033/gw_catchments_reaches_filtered_addedAttributes_1097000033.tif to output/flood_03020202/03020202/branches/1097000033/gw_catchments_reaches_filtered_addedAttributes_1097000033.tif\n",
      "download: s3://ciroh-owp-hand-fim/hand_fim_4_5_2_11/03020202/branches/1097000033/hydroTable_1097000033.csv to output/flood_03020202/03020202/branches/1097000033/hydroTable_1097000033.csv\n",
      "download: s3://ciroh-owp-hand-fim/hand_fim_4_5_2_11/03020202/branches/1097000033/src_base_1097000033.csv to output/flood_03020202/03020202/branches/1097000033/src_base_1097000033.csv\n",
      "download: s3://ciroh-owp-hand-fim/hand_fim_4_5_2_11/03020202/branches/1097000033/usgs_elev_table.csv to output/flood_03020202/03020202/branches/1097000033/usgs_elev_table.csv\n",
      "download: s3://ciroh-owp-hand-fim/hand_fim_4_5_2_11/03020202/branches/1097000035/demDerived_reaches_split_filtered_addedAttributes_crosswalked_1097000035.gpkg to output/flood_03020202/03020202/branches/1097000035/demDerived_reaches_split_filtered_addedAttributes_crosswalked_1097000035.gpkg\n",
      "download: s3://ciroh-owp-hand-fim/hand_fim_4_5_2_11/03020202/branches/1097000035/gw_catchments_reaches_filtered_addedAttributes_1097000035.tif to output/flood_03020202/03020202/branches/1097000035/gw_catchments_reaches_filtered_addedAttributes_1097000035.tif\n",
      "download: s3://ciroh-owp-hand-fim/hand_fim_4_5_2_11/03020202/branches/1097000035/backpool_stats.csv to output/flood_03020202/03020202/branches/1097000035/backpool_stats.csv\n",
      "download: s3://ciroh-owp-hand-fim/hand_fim_4_5_2_11/03020202/branches/1097000035/gw_catchments_reaches_filtered_addedAttributes_crosswalked_1097000035.gpkg to output/flood_03020202/03020202/branches/1097000035/gw_catchments_reaches_filtered_addedAttributes_crosswalked_1097000035.gpkg\n",
      "download: s3://ciroh-owp-hand-fim/hand_fim_4_5_2_11/03020202/branches/0/rem_zeroed_masked_0.tif to output/flood_03020202/03020202/branches/0/rem_zeroed_masked_0.tif\n",
      "download: s3://ciroh-owp-hand-fim/hand_fim_4_5_2_11/03020202/branches/1097000035/hydroTable_1097000035.csv to output/flood_03020202/03020202/branches/1097000035/hydroTable_1097000035.csv\n",
      "download: s3://ciroh-owp-hand-fim/hand_fim_4_5_2_11/03020202/branches/1097000035/osm_bridge_centroids_1097000035.gpkg to output/flood_03020202/03020202/branches/1097000035/osm_bridge_centroids_1097000035.gpkg\n",
      "download: s3://ciroh-owp-hand-fim/hand_fim_4_5_2_11/03020202/branches/1097000033/src_full_crosswalked_1097000033.csv to output/flood_03020202/03020202/branches/1097000033/src_full_crosswalked_1097000033.csv\n",
      "download: s3://ciroh-owp-hand-fim/hand_fim_4_5_2_11/03020202/branches/1097000035/src_base_1097000035.csv to output/flood_03020202/03020202/branches/1097000035/src_base_1097000035.csv\n",
      "download: s3://ciroh-owp-hand-fim/hand_fim_4_5_2_11/03020202/branches/1097000036/gw_catchments_reaches_filtered_addedAttributes_1097000036.tif to output/flood_03020202/03020202/branches/1097000036/gw_catchments_reaches_filtered_addedAttributes_1097000036.tif\n",
      "download: s3://ciroh-owp-hand-fim/hand_fim_4_5_2_11/03020202/branches/1097000036/backpool_stats.csv to output/flood_03020202/03020202/branches/1097000036/backpool_stats.csv\n",
      "download: s3://ciroh-owp-hand-fim/hand_fim_4_5_2_11/03020202/branches/1097000035/gw_catchments_pixels_1097000035.gpkg to output/flood_03020202/03020202/branches/1097000035/gw_catchments_pixels_1097000035.gpkg\n",
      "download: s3://ciroh-owp-hand-fim/hand_fim_4_5_2_11/03020202/branches/1097000031/rem_zeroed_masked_1097000031.tif to output/flood_03020202/03020202/branches/1097000031/rem_zeroed_masked_1097000031.tif\n",
      "download: s3://ciroh-owp-hand-fim/hand_fim_4_5_2_11/03020202/branches/1097000033/gw_catchments_pixels_1097000033.gpkg to output/flood_03020202/03020202/branches/1097000033/gw_catchments_pixels_1097000033.gpkg\n",
      "download: s3://ciroh-owp-hand-fim/hand_fim_4_5_2_11/03020202/branches/1097000036/gw_catchments_reaches_filtered_addedAttributes_crosswalked_1097000036.gpkg to output/flood_03020202/03020202/branches/1097000036/gw_catchments_reaches_filtered_addedAttributes_crosswalked_1097000036.gpkg\n",
      "download: s3://ciroh-owp-hand-fim/hand_fim_4_5_2_11/03020202/branches/1097000036/src_base_1097000036.csv to output/flood_03020202/03020202/branches/1097000036/src_base_1097000036.csv\n",
      "download: s3://ciroh-owp-hand-fim/hand_fim_4_5_2_11/03020202/branches/1097000036/demDerived_reaches_split_filtered_addedAttributes_crosswalked_1097000036.gpkg to output/flood_03020202/03020202/branches/1097000036/demDerived_reaches_split_filtered_addedAttributes_crosswalked_1097000036.gpkg\n",
      "download: s3://ciroh-owp-hand-fim/hand_fim_4_5_2_11/03020202/branches/1097000036/hydroTable_1097000036.csv to output/flood_03020202/03020202/branches/1097000036/hydroTable_1097000036.csv\n",
      "download: s3://ciroh-owp-hand-fim/hand_fim_4_5_2_11/03020202/branches/1097000035/src_full_crosswalked_1097000035.csv to output/flood_03020202/03020202/branches/1097000035/src_full_crosswalked_1097000035.csv\n",
      "download: s3://ciroh-owp-hand-fim/hand_fim_4_5_2_11/03020202/branches/1097000036/osm_bridge_centroids_1097000036.gpkg to output/flood_03020202/03020202/branches/1097000036/osm_bridge_centroids_1097000036.gpkg\n",
      "download: s3://ciroh-owp-hand-fim/hand_fim_4_5_2_11/03020202/branches/1097000037/backpool_stats.csv to output/flood_03020202/03020202/branches/1097000037/backpool_stats.csv\n",
      "download: s3://ciroh-owp-hand-fim/hand_fim_4_5_2_11/03020202/branches/1097000037/gw_catchments_reaches_filtered_addedAttributes_1097000037.tif to output/flood_03020202/03020202/branches/1097000037/gw_catchments_reaches_filtered_addedAttributes_1097000037.tif\n",
      "download: s3://ciroh-owp-hand-fim/hand_fim_4_5_2_11/03020202/branches/1097000037/osm_bridge_centroids_1097000037.gpkg to output/flood_03020202/03020202/branches/1097000037/osm_bridge_centroids_1097000037.gpkg\n",
      "download: s3://ciroh-owp-hand-fim/hand_fim_4_5_2_11/03020202/branches/1097000036/gw_catchments_pixels_1097000036.gpkg to output/flood_03020202/03020202/branches/1097000036/gw_catchments_pixels_1097000036.gpkg\n",
      "download: s3://ciroh-owp-hand-fim/hand_fim_4_5_2_11/03020202/branches/1097000037/demDerived_reaches_split_filtered_addedAttributes_crosswalked_1097000037.gpkg to output/flood_03020202/03020202/branches/1097000037/demDerived_reaches_split_filtered_addedAttributes_crosswalked_1097000037.gpkg\n",
      "download: s3://ciroh-owp-hand-fim/hand_fim_4_5_2_11/03020202/branches/1097000036/src_full_crosswalked_1097000036.csv to output/flood_03020202/03020202/branches/1097000036/src_full_crosswalked_1097000036.csv\n",
      "download: s3://ciroh-owp-hand-fim/hand_fim_4_5_2_11/03020202/branches/1097000037/gw_catchments_reaches_filtered_addedAttributes_crosswalked_1097000037.gpkg to output/flood_03020202/03020202/branches/1097000037/gw_catchments_reaches_filtered_addedAttributes_crosswalked_1097000037.gpkg\n",
      "download: s3://ciroh-owp-hand-fim/hand_fim_4_5_2_11/03020202/branches/1097000037/src_base_1097000037.csv to output/flood_03020202/03020202/branches/1097000037/src_base_1097000037.csv\n",
      "download: s3://ciroh-owp-hand-fim/hand_fim_4_5_2_11/03020202/branches/1097000038/demDerived_reaches_split_filtered_addedAttributes_crosswalked_1097000038.gpkg to output/flood_03020202/03020202/branches/1097000038/demDerived_reaches_split_filtered_addedAttributes_crosswalked_1097000038.gpkg\n",
      "download: s3://ciroh-owp-hand-fim/hand_fim_4_5_2_11/03020202/branches/1097000036/rem_zeroed_masked_1097000036.tif to output/flood_03020202/03020202/branches/1097000036/rem_zeroed_masked_1097000036.tif\n",
      "download: s3://ciroh-owp-hand-fim/hand_fim_4_5_2_11/03020202/branches/1097000038/backpool_stats.csv to output/flood_03020202/03020202/branches/1097000038/backpool_stats.csv\n",
      "download: s3://ciroh-owp-hand-fim/hand_fim_4_5_2_11/03020202/branches/1097000037/hydroTable_1097000037.csv to output/flood_03020202/03020202/branches/1097000037/hydroTable_1097000037.csv\n",
      "download: s3://ciroh-owp-hand-fim/hand_fim_4_5_2_11/03020202/branches/1097000038/hydroTable_1097000038.csv to output/flood_03020202/03020202/branches/1097000038/hydroTable_1097000038.csv\n",
      "download: s3://ciroh-owp-hand-fim/hand_fim_4_5_2_11/03020202/branches/1097000038/src_base_1097000038.csv to output/flood_03020202/03020202/branches/1097000038/src_base_1097000038.csv\n",
      "download: s3://ciroh-owp-hand-fim/hand_fim_4_5_2_11/03020202/branches/1097000038/osm_bridge_centroids_1097000038.gpkg to output/flood_03020202/03020202/branches/1097000038/osm_bridge_centroids_1097000038.gpkg\n",
      "download: s3://ciroh-owp-hand-fim/hand_fim_4_5_2_11/03020202/branches/1097000038/gw_catchments_reaches_filtered_addedAttributes_1097000038.tif to output/flood_03020202/03020202/branches/1097000038/gw_catchments_reaches_filtered_addedAttributes_1097000038.tif\n",
      "download: s3://ciroh-owp-hand-fim/hand_fim_4_5_2_11/03020202/branches/1097000037/src_full_crosswalked_1097000037.csv to output/flood_03020202/03020202/branches/1097000037/src_full_crosswalked_1097000037.csv\n",
      "download: s3://ciroh-owp-hand-fim/hand_fim_4_5_2_11/03020202/branches/1097000037/gw_catchments_pixels_1097000037.gpkg to output/flood_03020202/03020202/branches/1097000037/gw_catchments_pixels_1097000037.gpkg\n",
      "download: s3://ciroh-owp-hand-fim/hand_fim_4_5_2_11/03020202/branches/1097000039/gw_catchments_reaches_filtered_addedAttributes_1097000039.tif to output/flood_03020202/03020202/branches/1097000039/gw_catchments_reaches_filtered_addedAttributes_1097000039.tif\n",
      "download: s3://ciroh-owp-hand-fim/hand_fim_4_5_2_11/03020202/branches/1097000039/hydroTable_1097000039.csv to output/flood_03020202/03020202/branches/1097000039/hydroTable_1097000039.csv\n",
      "download: s3://ciroh-owp-hand-fim/hand_fim_4_5_2_11/03020202/branches/1097000038/gw_catchments_reaches_filtered_addedAttributes_crosswalked_1097000038.gpkg to output/flood_03020202/03020202/branches/1097000038/gw_catchments_reaches_filtered_addedAttributes_crosswalked_1097000038.gpkg\n",
      "download: s3://ciroh-owp-hand-fim/hand_fim_4_5_2_11/03020202/branches/1097000039/backpool_stats.csv to output/flood_03020202/03020202/branches/1097000039/backpool_stats.csv\n",
      "download: s3://ciroh-owp-hand-fim/hand_fim_4_5_2_11/03020202/branches/1097000038/src_full_crosswalked_1097000038.csv to output/flood_03020202/03020202/branches/1097000038/src_full_crosswalked_1097000038.csv\n",
      "download: s3://ciroh-owp-hand-fim/hand_fim_4_5_2_11/03020202/branches/1097000039/src_full_crosswalked_1097000039.csv to output/flood_03020202/03020202/branches/1097000039/src_full_crosswalked_1097000039.csv\n",
      "download: s3://ciroh-owp-hand-fim/hand_fim_4_5_2_11/03020202/branches/1097000039/src_base_1097000039.csv to output/flood_03020202/03020202/branches/1097000039/src_base_1097000039.csv\n",
      "download: s3://ciroh-owp-hand-fim/hand_fim_4_5_2_11/03020202/branches/1097000039/gw_catchments_reaches_filtered_addedAttributes_crosswalked_1097000039.gpkg to output/flood_03020202/03020202/branches/1097000039/gw_catchments_reaches_filtered_addedAttributes_crosswalked_1097000039.gpkg\n",
      "download: s3://ciroh-owp-hand-fim/hand_fim_4_5_2_11/03020202/branches/1097000039/demDerived_reaches_split_filtered_addedAttributes_crosswalked_1097000039.gpkg to output/flood_03020202/03020202/branches/1097000039/demDerived_reaches_split_filtered_addedAttributes_crosswalked_1097000039.gpkg\n",
      "download: s3://ciroh-owp-hand-fim/hand_fim_4_5_2_11/03020202/branches/1097000039/gw_catchments_pixels_1097000039.gpkg to output/flood_03020202/03020202/branches/1097000039/gw_catchments_pixels_1097000039.gpkg\n",
      "download: s3://ciroh-owp-hand-fim/hand_fim_4_5_2_11/03020202/branches/1097000040/demDerived_reaches_split_filtered_addedAttributes_crosswalked_1097000040.gpkg to output/flood_03020202/03020202/branches/1097000040/demDerived_reaches_split_filtered_addedAttributes_crosswalked_1097000040.gpkg\n",
      "download: s3://ciroh-owp-hand-fim/hand_fim_4_5_2_11/03020202/branches/1097000039/osm_bridge_centroids_1097000039.gpkg to output/flood_03020202/03020202/branches/1097000039/osm_bridge_centroids_1097000039.gpkg\n",
      "download: s3://ciroh-owp-hand-fim/hand_fim_4_5_2_11/03020202/branches/1097000038/gw_catchments_pixels_1097000038.gpkg to output/flood_03020202/03020202/branches/1097000038/gw_catchments_pixels_1097000038.gpkg\n",
      "download: s3://ciroh-owp-hand-fim/hand_fim_4_5_2_11/03020202/branches/1097000040/osm_bridge_centroids_1097000040.gpkg to output/flood_03020202/03020202/branches/1097000040/osm_bridge_centroids_1097000040.gpkg\n",
      "download: s3://ciroh-owp-hand-fim/hand_fim_4_5_2_11/03020202/branches/1097000040/gw_catchments_reaches_filtered_addedAttributes_crosswalked_1097000040.gpkg to output/flood_03020202/03020202/branches/1097000040/gw_catchments_reaches_filtered_addedAttributes_crosswalked_1097000040.gpkg\n",
      "download: s3://ciroh-owp-hand-fim/hand_fim_4_5_2_11/03020202/branches/1097000040/small_segments_1097000040.csv to output/flood_03020202/03020202/branches/1097000040/small_segments_1097000040.csv\n",
      "download: s3://ciroh-owp-hand-fim/hand_fim_4_5_2_11/03020202/branches/1097000040/gw_catchments_reaches_filtered_addedAttributes_1097000040.tif to output/flood_03020202/03020202/branches/1097000040/gw_catchments_reaches_filtered_addedAttributes_1097000040.tif\n",
      "download: s3://ciroh-owp-hand-fim/hand_fim_4_5_2_11/03020202/branches/1097000040/backpool_stats.csv to output/flood_03020202/03020202/branches/1097000040/backpool_stats.csv\n",
      "download: s3://ciroh-owp-hand-fim/hand_fim_4_5_2_11/03020202/branches/1097000024/rem_zeroed_masked_1097000024.tif to output/flood_03020202/03020202/branches/1097000024/rem_zeroed_masked_1097000024.tif\n",
      "download: s3://ciroh-owp-hand-fim/hand_fim_4_5_2_11/03020202/branches/1097000040/src_base_1097000040.csv to output/flood_03020202/03020202/branches/1097000040/src_base_1097000040.csv\n",
      "download: s3://ciroh-owp-hand-fim/hand_fim_4_5_2_11/03020202/branches/1097000040/src_full_crosswalked_1097000040.csv to output/flood_03020202/03020202/branches/1097000040/src_full_crosswalked_1097000040.csv\n",
      "download: s3://ciroh-owp-hand-fim/hand_fim_4_5_2_11/03020202/branches/1097000041/gw_catchments_reaches_filtered_addedAttributes_1097000041.tif to output/flood_03020202/03020202/branches/1097000041/gw_catchments_reaches_filtered_addedAttributes_1097000041.tif\n",
      "download: s3://ciroh-owp-hand-fim/hand_fim_4_5_2_11/03020202/branches/1097000041/hydroTable_1097000041.csv to output/flood_03020202/03020202/branches/1097000041/hydroTable_1097000041.csv\n",
      "download: s3://ciroh-owp-hand-fim/hand_fim_4_5_2_11/03020202/branches/1097000041/gw_catchments_reaches_filtered_addedAttributes_crosswalked_1097000041.gpkg to output/flood_03020202/03020202/branches/1097000041/gw_catchments_reaches_filtered_addedAttributes_crosswalked_1097000041.gpkg\n",
      "download: s3://ciroh-owp-hand-fim/hand_fim_4_5_2_11/03020202/branches/1097000038/rem_zeroed_masked_1097000038.tif to output/flood_03020202/03020202/branches/1097000038/rem_zeroed_masked_1097000038.tif\n",
      "download: s3://ciroh-owp-hand-fim/hand_fim_4_5_2_11/03020202/branches/1097000040/hydroTable_1097000040.csv to output/flood_03020202/03020202/branches/1097000040/hydroTable_1097000040.csv\n",
      "download: s3://ciroh-owp-hand-fim/hand_fim_4_5_2_11/03020202/branches/1097000041/osm_bridge_centroids_1097000041.gpkg to output/flood_03020202/03020202/branches/1097000041/osm_bridge_centroids_1097000041.gpkg\n",
      "download: s3://ciroh-owp-hand-fim/hand_fim_4_5_2_11/03020202/branches/1097000041/demDerived_reaches_split_filtered_addedAttributes_crosswalked_1097000041.gpkg to output/flood_03020202/03020202/branches/1097000041/demDerived_reaches_split_filtered_addedAttributes_crosswalked_1097000041.gpkg\n",
      "download: s3://ciroh-owp-hand-fim/hand_fim_4_5_2_11/03020202/branches/1097000039/rem_zeroed_masked_1097000039.tif to output/flood_03020202/03020202/branches/1097000039/rem_zeroed_masked_1097000039.tif\n",
      "download: s3://ciroh-owp-hand-fim/hand_fim_4_5_2_11/03020202/branches/1097000042/demDerived_reaches_split_filtered_addedAttributes_crosswalked_1097000042.gpkg to output/flood_03020202/03020202/branches/1097000042/demDerived_reaches_split_filtered_addedAttributes_crosswalked_1097000042.gpkg\n",
      "download: s3://ciroh-owp-hand-fim/hand_fim_4_5_2_11/03020202/branches/1097000041/src_base_1097000041.csv to output/flood_03020202/03020202/branches/1097000041/src_base_1097000041.csv\n",
      "download: s3://ciroh-owp-hand-fim/hand_fim_4_5_2_11/03020202/branches/1097000042/src_base_1097000042.csv to output/flood_03020202/03020202/branches/1097000042/src_base_1097000042.csv\n",
      "download: s3://ciroh-owp-hand-fim/hand_fim_4_5_2_11/03020202/branches/1097000042/src_full_crosswalked_1097000042.csv to output/flood_03020202/03020202/branches/1097000042/src_full_crosswalked_1097000042.csv\n",
      "download: s3://ciroh-owp-hand-fim/hand_fim_4_5_2_11/03020202/branches/1097000042/gw_catchments_reaches_filtered_addedAttributes_1097000042.tif to output/flood_03020202/03020202/branches/1097000042/gw_catchments_reaches_filtered_addedAttributes_1097000042.tif\n",
      "download: s3://ciroh-owp-hand-fim/hand_fim_4_5_2_11/03020202/branches/1097000041/src_full_crosswalked_1097000041.csv to output/flood_03020202/03020202/branches/1097000041/src_full_crosswalked_1097000041.csv\n",
      "download: s3://ciroh-owp-hand-fim/hand_fim_4_5_2_11/03020202/branches/1097000042/rem_zeroed_masked_1097000042.tif to output/flood_03020202/03020202/branches/1097000042/rem_zeroed_masked_1097000042.tif\n",
      "download: s3://ciroh-owp-hand-fim/hand_fim_4_5_2_11/03020202/branches/1097000043/demDerived_reaches_split_filtered_addedAttributes_crosswalked_1097000043.gpkg to output/flood_03020202/03020202/branches/1097000043/demDerived_reaches_split_filtered_addedAttributes_crosswalked_1097000043.gpkg\n",
      "download: s3://ciroh-owp-hand-fim/hand_fim_4_5_2_11/03020202/branches/1097000042/hydroTable_1097000042.csv to output/flood_03020202/03020202/branches/1097000042/hydroTable_1097000042.csv\n",
      "download: s3://ciroh-owp-hand-fim/hand_fim_4_5_2_11/03020202/branches/1097000042/osm_bridge_centroids_1097000042.gpkg to output/flood_03020202/03020202/branches/1097000042/osm_bridge_centroids_1097000042.gpkg\n",
      "download: s3://ciroh-owp-hand-fim/hand_fim_4_5_2_11/03020202/branches/1097000042/gw_catchments_reaches_filtered_addedAttributes_crosswalked_1097000042.gpkg to output/flood_03020202/03020202/branches/1097000042/gw_catchments_reaches_filtered_addedAttributes_crosswalked_1097000042.gpkg\n",
      "download: s3://ciroh-owp-hand-fim/hand_fim_4_5_2_11/03020202/branches/1097000043/osm_bridge_centroids_1097000043.gpkg to output/flood_03020202/03020202/branches/1097000043/osm_bridge_centroids_1097000043.gpkg\n",
      "download: s3://ciroh-owp-hand-fim/hand_fim_4_5_2_11/03020202/branches/1097000040/gw_catchments_pixels_1097000040.gpkg to output/flood_03020202/03020202/branches/1097000040/gw_catchments_pixels_1097000040.gpkg\n",
      "download: s3://ciroh-owp-hand-fim/hand_fim_4_5_2_11/03020202/branches/1097000043/backpool_stats.csv to output/flood_03020202/03020202/branches/1097000043/backpool_stats.csv\n",
      "download: s3://ciroh-owp-hand-fim/hand_fim_4_5_2_11/03020202/branches/1097000035/rem_zeroed_masked_1097000035.tif to output/flood_03020202/03020202/branches/1097000035/rem_zeroed_masked_1097000035.tif\n",
      "download: s3://ciroh-owp-hand-fim/hand_fim_4_5_2_11/03020202/branches/1097000043/gw_catchments_reaches_filtered_addedAttributes_1097000043.tif to output/flood_03020202/03020202/branches/1097000043/gw_catchments_reaches_filtered_addedAttributes_1097000043.tif\n",
      "download: s3://ciroh-owp-hand-fim/hand_fim_4_5_2_11/03020202/branches/1097000043/gw_catchments_reaches_filtered_addedAttributes_crosswalked_1097000043.gpkg to output/flood_03020202/03020202/branches/1097000043/gw_catchments_reaches_filtered_addedAttributes_crosswalked_1097000043.gpkg\n",
      "download: s3://ciroh-owp-hand-fim/hand_fim_4_5_2_11/03020202/branches/1097000043/src_base_1097000043.csv to output/flood_03020202/03020202/branches/1097000043/src_base_1097000043.csv\n",
      "download: s3://ciroh-owp-hand-fim/hand_fim_4_5_2_11/03020202/branches/1097000044/backpool_stats.csv to output/flood_03020202/03020202/branches/1097000044/backpool_stats.csv\n",
      "download: s3://ciroh-owp-hand-fim/hand_fim_4_5_2_11/03020202/branches/1097000043/hydroTable_1097000043.csv to output/flood_03020202/03020202/branches/1097000043/hydroTable_1097000043.csv\n",
      "download: s3://ciroh-owp-hand-fim/hand_fim_4_5_2_11/03020202/branches/1097000044/demDerived_reaches_split_filtered_addedAttributes_crosswalked_1097000044.gpkg to output/flood_03020202/03020202/branches/1097000044/demDerived_reaches_split_filtered_addedAttributes_crosswalked_1097000044.gpkg\n",
      "download: s3://ciroh-owp-hand-fim/hand_fim_4_5_2_11/03020202/branches/1097000044/gw_catchments_reaches_filtered_addedAttributes_1097000044.tif to output/flood_03020202/03020202/branches/1097000044/gw_catchments_reaches_filtered_addedAttributes_1097000044.tif\n",
      "download: s3://ciroh-owp-hand-fim/hand_fim_4_5_2_11/03020202/branches/1097000043/src_full_crosswalked_1097000043.csv to output/flood_03020202/03020202/branches/1097000043/src_full_crosswalked_1097000043.csv\n",
      "download: s3://ciroh-owp-hand-fim/hand_fim_4_5_2_11/03020202/branches/1097000033/rem_zeroed_masked_1097000033.tif to output/flood_03020202/03020202/branches/1097000033/rem_zeroed_masked_1097000033.tif\n",
      "download: s3://ciroh-owp-hand-fim/hand_fim_4_5_2_11/03020202/branches/1097000044/src_base_1097000044.csv to output/flood_03020202/03020202/branches/1097000044/src_base_1097000044.csv\n",
      "download: s3://ciroh-owp-hand-fim/hand_fim_4_5_2_11/03020202/branches/1097000044/gw_catchments_reaches_filtered_addedAttributes_crosswalked_1097000044.gpkg to output/flood_03020202/03020202/branches/1097000044/gw_catchments_reaches_filtered_addedAttributes_crosswalked_1097000044.gpkg\n",
      "download: s3://ciroh-owp-hand-fim/hand_fim_4_5_2_11/03020202/branches/1097000045/backpool_stats.csv to output/flood_03020202/03020202/branches/1097000045/backpool_stats.csv\n",
      "download: s3://ciroh-owp-hand-fim/hand_fim_4_5_2_11/03020202/branches/1097000044/hydroTable_1097000044.csv to output/flood_03020202/03020202/branches/1097000044/hydroTable_1097000044.csv\n",
      "download: s3://ciroh-owp-hand-fim/hand_fim_4_5_2_11/03020202/branches/1097000045/demDerived_reaches_split_filtered_addedAttributes_crosswalked_1097000045.gpkg to output/flood_03020202/03020202/branches/1097000045/demDerived_reaches_split_filtered_addedAttributes_crosswalked_1097000045.gpkg\n",
      "download: s3://ciroh-owp-hand-fim/hand_fim_4_5_2_11/03020202/branches/1097000045/gw_catchments_reaches_filtered_addedAttributes_1097000045.tif to output/flood_03020202/03020202/branches/1097000045/gw_catchments_reaches_filtered_addedAttributes_1097000045.tif\n",
      "download: s3://ciroh-owp-hand-fim/hand_fim_4_5_2_11/03020202/branches/1097000044/osm_bridge_centroids_1097000044.gpkg to output/flood_03020202/03020202/branches/1097000044/osm_bridge_centroids_1097000044.gpkg\n",
      "download: s3://ciroh-owp-hand-fim/hand_fim_4_5_2_11/03020202/branches/1097000045/gw_catchments_reaches_filtered_addedAttributes_crosswalked_1097000045.gpkg to output/flood_03020202/03020202/branches/1097000045/gw_catchments_reaches_filtered_addedAttributes_crosswalked_1097000045.gpkg\n",
      "download: s3://ciroh-owp-hand-fim/hand_fim_4_5_2_11/03020202/branches/1097000044/gw_catchments_pixels_1097000044.gpkg to output/flood_03020202/03020202/branches/1097000044/gw_catchments_pixels_1097000044.gpkg\n",
      "download: s3://ciroh-owp-hand-fim/hand_fim_4_5_2_11/03020202/branches/1097000045/src_base_1097000045.csv to output/flood_03020202/03020202/branches/1097000045/src_base_1097000045.csv\n",
      "download: s3://ciroh-owp-hand-fim/hand_fim_4_5_2_11/03020202/branches/1097000045/osm_bridge_centroids_1097000045.gpkg to output/flood_03020202/03020202/branches/1097000045/osm_bridge_centroids_1097000045.gpkg\n",
      "download: s3://ciroh-owp-hand-fim/hand_fim_4_5_2_11/03020202/branches/1097000044/src_full_crosswalked_1097000044.csv to output/flood_03020202/03020202/branches/1097000044/src_full_crosswalked_1097000044.csv\n",
      "download: s3://ciroh-owp-hand-fim/hand_fim_4_5_2_11/03020202/branches/1097000045/src_full_crosswalked_1097000045.csv to output/flood_03020202/03020202/branches/1097000045/src_full_crosswalked_1097000045.csv\n",
      "download: s3://ciroh-owp-hand-fim/hand_fim_4_5_2_11/03020202/branches/1097000045/hydroTable_1097000045.csv to output/flood_03020202/03020202/branches/1097000045/hydroTable_1097000045.csv\n",
      "download: s3://ciroh-owp-hand-fim/hand_fim_4_5_2_11/03020202/branches/1097000047/gw_catchments_reaches_filtered_addedAttributes_1097000047.tif to output/flood_03020202/03020202/branches/1097000047/gw_catchments_reaches_filtered_addedAttributes_1097000047.tif\n",
      "download: s3://ciroh-owp-hand-fim/hand_fim_4_5_2_11/03020202/branches/1097000045/gw_catchments_pixels_1097000045.gpkg to output/flood_03020202/03020202/branches/1097000045/gw_catchments_pixels_1097000045.gpkg\n",
      "download: s3://ciroh-owp-hand-fim/hand_fim_4_5_2_11/03020202/branches/1097000047/demDerived_reaches_split_filtered_addedAttributes_crosswalked_1097000047.gpkg to output/flood_03020202/03020202/branches/1097000047/demDerived_reaches_split_filtered_addedAttributes_crosswalked_1097000047.gpkg\n",
      "download: s3://ciroh-owp-hand-fim/hand_fim_4_5_2_11/03020202/branches/1097000043/gw_catchments_pixels_1097000043.gpkg to output/flood_03020202/03020202/branches/1097000043/gw_catchments_pixels_1097000043.gpkg\n",
      "download: s3://ciroh-owp-hand-fim/hand_fim_4_5_2_11/03020202/branches/1097000040/rem_zeroed_masked_1097000040.tif to output/flood_03020202/03020202/branches/1097000040/rem_zeroed_masked_1097000040.tif\n",
      "download: s3://ciroh-owp-hand-fim/hand_fim_4_5_2_11/03020202/branches/1097000047/osm_bridge_centroids_1097000047.gpkg to output/flood_03020202/03020202/branches/1097000047/osm_bridge_centroids_1097000047.gpkg\n",
      "download: s3://ciroh-owp-hand-fim/hand_fim_4_5_2_11/03020202/branches/1097000047/gw_catchments_reaches_filtered_addedAttributes_crosswalked_1097000047.gpkg to output/flood_03020202/03020202/branches/1097000047/gw_catchments_reaches_filtered_addedAttributes_crosswalked_1097000047.gpkg\n",
      "download: s3://ciroh-owp-hand-fim/hand_fim_4_5_2_11/03020202/branches/1097000047/hydroTable_1097000047.csv to output/flood_03020202/03020202/branches/1097000047/hydroTable_1097000047.csv\n",
      "download: s3://ciroh-owp-hand-fim/hand_fim_4_5_2_11/03020202/branches/1097000037/rem_zeroed_masked_1097000037.tif to output/flood_03020202/03020202/branches/1097000037/rem_zeroed_masked_1097000037.tif\n",
      "download: s3://ciroh-owp-hand-fim/hand_fim_4_5_2_11/03020202/branches/1097000047/src_base_1097000047.csv to output/flood_03020202/03020202/branches/1097000047/src_base_1097000047.csv\n",
      "download: s3://ciroh-owp-hand-fim/hand_fim_4_5_2_11/03020202/branches/1097000049/backpool_stats.csv to output/flood_03020202/03020202/branches/1097000049/backpool_stats.csv\n",
      "download: s3://ciroh-owp-hand-fim/hand_fim_4_5_2_11/03020202/branches/1097000047/src_full_crosswalked_1097000047.csv to output/flood_03020202/03020202/branches/1097000047/src_full_crosswalked_1097000047.csv\n",
      "download: s3://ciroh-owp-hand-fim/hand_fim_4_5_2_11/03020202/branches/1097000047/backpool_stats.csv to output/flood_03020202/03020202/branches/1097000047/backpool_stats.csv\n",
      "download: s3://ciroh-owp-hand-fim/hand_fim_4_5_2_11/03020202/branches/1097000049/gw_catchments_reaches_filtered_addedAttributes_1097000049.tif to output/flood_03020202/03020202/branches/1097000049/gw_catchments_reaches_filtered_addedAttributes_1097000049.tif\n",
      "download: s3://ciroh-owp-hand-fim/hand_fim_4_5_2_11/03020202/branches/1097000049/demDerived_reaches_split_filtered_addedAttributes_crosswalked_1097000049.gpkg to output/flood_03020202/03020202/branches/1097000049/demDerived_reaches_split_filtered_addedAttributes_crosswalked_1097000049.gpkg\n",
      "download: s3://ciroh-owp-hand-fim/hand_fim_4_5_2_11/03020202/branches/1097000049/src_base_1097000049.csv to output/flood_03020202/03020202/branches/1097000049/src_base_1097000049.csv\n",
      "download: s3://ciroh-owp-hand-fim/hand_fim_4_5_2_11/03020202/branches/1097000049/hydroTable_1097000049.csv to output/flood_03020202/03020202/branches/1097000049/hydroTable_1097000049.csv\n",
      "download: s3://ciroh-owp-hand-fim/hand_fim_4_5_2_11/03020202/branches/1097000049/src_full_crosswalked_1097000049.csv to output/flood_03020202/03020202/branches/1097000049/src_full_crosswalked_1097000049.csv\n",
      "download: s3://ciroh-owp-hand-fim/hand_fim_4_5_2_11/03020202/branches/1097000049/gw_catchments_reaches_filtered_addedAttributes_crosswalked_1097000049.gpkg to output/flood_03020202/03020202/branches/1097000049/gw_catchments_reaches_filtered_addedAttributes_crosswalked_1097000049.gpkg\n",
      "download: s3://ciroh-owp-hand-fim/hand_fim_4_5_2_11/03020202/branches/1097000041/rem_zeroed_masked_1097000041.tif to output/flood_03020202/03020202/branches/1097000041/rem_zeroed_masked_1097000041.tif\n",
      "download: s3://ciroh-owp-hand-fim/hand_fim_4_5_2_11/03020202/branches/1097000050/demDerived_reaches_split_filtered_addedAttributes_crosswalked_1097000050.gpkg to output/flood_03020202/03020202/branches/1097000050/demDerived_reaches_split_filtered_addedAttributes_crosswalked_1097000050.gpkg\n",
      "download: s3://ciroh-owp-hand-fim/hand_fim_4_5_2_11/03020202/branches/1097000049/osm_bridge_centroids_1097000049.gpkg to output/flood_03020202/03020202/branches/1097000049/osm_bridge_centroids_1097000049.gpkg\n",
      "download: s3://ciroh-owp-hand-fim/hand_fim_4_5_2_11/03020202/branches/1097000050/gw_catchments_reaches_filtered_addedAttributes_1097000050.tif to output/flood_03020202/03020202/branches/1097000050/gw_catchments_reaches_filtered_addedAttributes_1097000050.tif\n",
      "download: s3://ciroh-owp-hand-fim/hand_fim_4_5_2_11/03020202/branches/1097000045/rem_zeroed_masked_1097000045.tif to output/flood_03020202/03020202/branches/1097000045/rem_zeroed_masked_1097000045.tif\n",
      "download: s3://ciroh-owp-hand-fim/hand_fim_4_5_2_11/03020202/branches/1097000049/gw_catchments_pixels_1097000049.gpkg to output/flood_03020202/03020202/branches/1097000049/gw_catchments_pixels_1097000049.gpkg\n",
      "download: s3://ciroh-owp-hand-fim/hand_fim_4_5_2_11/03020202/branches/1097000050/backpool_stats.csv to output/flood_03020202/03020202/branches/1097000050/backpool_stats.csv\n",
      "download: s3://ciroh-owp-hand-fim/hand_fim_4_5_2_11/03020202/branches/1097000050/hydroTable_1097000050.csv to output/flood_03020202/03020202/branches/1097000050/hydroTable_1097000050.csv\n",
      "download: s3://ciroh-owp-hand-fim/hand_fim_4_5_2_11/03020202/branches/1097000050/src_base_1097000050.csv to output/flood_03020202/03020202/branches/1097000050/src_base_1097000050.csv\n",
      "download: s3://ciroh-owp-hand-fim/hand_fim_4_5_2_11/03020202/branches/1097000050/osm_bridge_centroids_1097000050.gpkg to output/flood_03020202/03020202/branches/1097000050/osm_bridge_centroids_1097000050.gpkg\n",
      "download: s3://ciroh-owp-hand-fim/hand_fim_4_5_2_11/03020202/branches/1097000050/rem_zeroed_masked_1097000050.tif to output/flood_03020202/03020202/branches/1097000050/rem_zeroed_masked_1097000050.tif\n",
      "download: s3://ciroh-owp-hand-fim/hand_fim_4_5_2_11/03020202/branches/1097000050/gw_catchments_reaches_filtered_addedAttributes_crosswalked_1097000050.gpkg to output/flood_03020202/03020202/branches/1097000050/gw_catchments_reaches_filtered_addedAttributes_crosswalked_1097000050.gpkg\n",
      "download: s3://ciroh-owp-hand-fim/hand_fim_4_5_2_11/03020202/branches/1097000050/src_full_crosswalked_1097000050.csv to output/flood_03020202/03020202/branches/1097000050/src_full_crosswalked_1097000050.csv\n",
      "download: s3://ciroh-owp-hand-fim/hand_fim_4_5_2_11/03020202/branches/1097000050/gw_catchments_pixels_1097000050.gpkg to output/flood_03020202/03020202/branches/1097000050/gw_catchments_pixels_1097000050.gpkg\n",
      "download: s3://ciroh-owp-hand-fim/hand_fim_4_5_2_11/03020202/branches/1097000051/backpool_stats.csv to output/flood_03020202/03020202/branches/1097000051/backpool_stats.csv\n",
      "download: s3://ciroh-owp-hand-fim/hand_fim_4_5_2_11/03020202/branches/1097000051/gw_catchments_reaches_filtered_addedAttributes_1097000051.tif to output/flood_03020202/03020202/branches/1097000051/gw_catchments_reaches_filtered_addedAttributes_1097000051.tif\n",
      "download: s3://ciroh-owp-hand-fim/hand_fim_4_5_2_11/03020202/branches/1097000051/demDerived_reaches_split_filtered_addedAttributes_crosswalked_1097000051.gpkg to output/flood_03020202/03020202/branches/1097000051/demDerived_reaches_split_filtered_addedAttributes_crosswalked_1097000051.gpkg\n",
      "download: s3://ciroh-owp-hand-fim/hand_fim_4_5_2_11/03020202/branches/1097000044/rem_zeroed_masked_1097000044.tif to output/flood_03020202/03020202/branches/1097000044/rem_zeroed_masked_1097000044.tif\n",
      "download: s3://ciroh-owp-hand-fim/hand_fim_4_5_2_11/03020202/branches/1097000051/osm_bridge_centroids_1097000051.gpkg to output/flood_03020202/03020202/branches/1097000051/osm_bridge_centroids_1097000051.gpkg\n",
      "download: s3://ciroh-owp-hand-fim/hand_fim_4_5_2_11/03020202/branches/1097000051/hydroTable_1097000051.csv to output/flood_03020202/03020202/branches/1097000051/hydroTable_1097000051.csv\n",
      "download: s3://ciroh-owp-hand-fim/hand_fim_4_5_2_11/03020202/branches/1097000051/src_base_1097000051.csv to output/flood_03020202/03020202/branches/1097000051/src_base_1097000051.csv\n",
      "download: s3://ciroh-owp-hand-fim/hand_fim_4_5_2_11/03020202/branches/1097000052/demDerived_reaches_split_filtered_addedAttributes_crosswalked_1097000052.gpkg to output/flood_03020202/03020202/branches/1097000052/demDerived_reaches_split_filtered_addedAttributes_crosswalked_1097000052.gpkg\n",
      "download: s3://ciroh-owp-hand-fim/hand_fim_4_5_2_11/03020202/branches/1097000051/gw_catchments_reaches_filtered_addedAttributes_crosswalked_1097000051.gpkg to output/flood_03020202/03020202/branches/1097000051/gw_catchments_reaches_filtered_addedAttributes_crosswalked_1097000051.gpkg\n",
      "download: s3://ciroh-owp-hand-fim/hand_fim_4_5_2_11/03020202/branches/1097000049/rem_zeroed_masked_1097000049.tif to output/flood_03020202/03020202/branches/1097000049/rem_zeroed_masked_1097000049.tif\n",
      "download: s3://ciroh-owp-hand-fim/hand_fim_4_5_2_11/03020202/branches/1097000047/gw_catchments_pixels_1097000047.gpkg to output/flood_03020202/03020202/branches/1097000047/gw_catchments_pixels_1097000047.gpkg\n",
      "download: s3://ciroh-owp-hand-fim/hand_fim_4_5_2_11/03020202/branches/1097000052/gw_catchments_reaches_filtered_addedAttributes_crosswalked_1097000052.gpkg to output/flood_03020202/03020202/branches/1097000052/gw_catchments_reaches_filtered_addedAttributes_crosswalked_1097000052.gpkg\n",
      "download: s3://ciroh-owp-hand-fim/hand_fim_4_5_2_11/03020202/branches/1097000052/src_base_1097000052.csv to output/flood_03020202/03020202/branches/1097000052/src_base_1097000052.csv\n",
      "download: s3://ciroh-owp-hand-fim/hand_fim_4_5_2_11/03020202/branches/1097000052/gw_catchments_reaches_filtered_addedAttributes_1097000052.tif to output/flood_03020202/03020202/branches/1097000052/gw_catchments_reaches_filtered_addedAttributes_1097000052.tif\n",
      "download: s3://ciroh-owp-hand-fim/hand_fim_4_5_2_11/03020202/branches/1097000052/backpool_stats.csv to output/flood_03020202/03020202/branches/1097000052/backpool_stats.csv\n",
      "download: s3://ciroh-owp-hand-fim/hand_fim_4_5_2_11/03020202/branches/1097000051/src_full_crosswalked_1097000051.csv to output/flood_03020202/03020202/branches/1097000051/src_full_crosswalked_1097000051.csv\n",
      "download: s3://ciroh-owp-hand-fim/hand_fim_4_5_2_11/03020202/branches/1097000052/osm_bridge_centroids_1097000052.gpkg to output/flood_03020202/03020202/branches/1097000052/osm_bridge_centroids_1097000052.gpkg\n",
      "download: s3://ciroh-owp-hand-fim/hand_fim_4_5_2_11/03020202/branches/1097000053/demDerived_reaches_split_filtered_addedAttributes_crosswalked_1097000053.gpkg to output/flood_03020202/03020202/branches/1097000053/demDerived_reaches_split_filtered_addedAttributes_crosswalked_1097000053.gpkg\n",
      "download: s3://ciroh-owp-hand-fim/hand_fim_4_5_2_11/03020202/branches/1097000052/hydroTable_1097000052.csv to output/flood_03020202/03020202/branches/1097000052/hydroTable_1097000052.csv\n",
      "download: s3://ciroh-owp-hand-fim/hand_fim_4_5_2_11/03020202/branches/1097000053/backpool_stats.csv to output/flood_03020202/03020202/branches/1097000053/backpool_stats.csv\n",
      "download: s3://ciroh-owp-hand-fim/hand_fim_4_5_2_11/03020202/branches/1097000053/hydroTable_1097000053.csv to output/flood_03020202/03020202/branches/1097000053/hydroTable_1097000053.csv\n",
      "download: s3://ciroh-owp-hand-fim/hand_fim_4_5_2_11/03020202/branches/1097000053/gw_catchments_reaches_filtered_addedAttributes_1097000053.tif to output/flood_03020202/03020202/branches/1097000053/gw_catchments_reaches_filtered_addedAttributes_1097000053.tif\n",
      "download: s3://ciroh-owp-hand-fim/hand_fim_4_5_2_11/03020202/branches/1097000052/src_full_crosswalked_1097000052.csv to output/flood_03020202/03020202/branches/1097000052/src_full_crosswalked_1097000052.csv\n",
      "download: s3://ciroh-owp-hand-fim/hand_fim_4_5_2_11/03020202/branches/1097000053/osm_bridge_centroids_1097000053.gpkg to output/flood_03020202/03020202/branches/1097000053/osm_bridge_centroids_1097000053.gpkg\n",
      "download: s3://ciroh-owp-hand-fim/hand_fim_4_5_2_11/03020202/branches/1097000053/gw_catchments_reaches_filtered_addedAttributes_crosswalked_1097000053.gpkg to output/flood_03020202/03020202/branches/1097000053/gw_catchments_reaches_filtered_addedAttributes_crosswalked_1097000053.gpkg\n",
      "download: s3://ciroh-owp-hand-fim/hand_fim_4_5_2_11/03020202/branches/1097000054/gw_catchments_reaches_filtered_addedAttributes_1097000054.tif to output/flood_03020202/03020202/branches/1097000054/gw_catchments_reaches_filtered_addedAttributes_1097000054.tif\n",
      "download: s3://ciroh-owp-hand-fim/hand_fim_4_5_2_11/03020202/branches/1097000054/gw_catchments_reaches_filtered_addedAttributes_crosswalked_1097000054.gpkg to output/flood_03020202/03020202/branches/1097000054/gw_catchments_reaches_filtered_addedAttributes_crosswalked_1097000054.gpkg\n",
      "download: s3://ciroh-owp-hand-fim/hand_fim_4_5_2_11/03020202/branches/1097000053/gw_catchments_pixels_1097000053.gpkg to output/flood_03020202/03020202/branches/1097000053/gw_catchments_pixels_1097000053.gpkg\n",
      "download: s3://ciroh-owp-hand-fim/hand_fim_4_5_2_11/03020202/branches/1097000052/rem_zeroed_masked_1097000052.tif to output/flood_03020202/03020202/branches/1097000052/rem_zeroed_masked_1097000052.tif\n",
      "download: s3://ciroh-owp-hand-fim/hand_fim_4_5_2_11/03020202/branches/1097000043/rem_zeroed_masked_1097000043.tif to output/flood_03020202/03020202/branches/1097000043/rem_zeroed_masked_1097000043.tif\n",
      "download: s3://ciroh-owp-hand-fim/hand_fim_4_5_2_11/03020202/branches/1097000051/gw_catchments_pixels_1097000051.gpkg to output/flood_03020202/03020202/branches/1097000051/gw_catchments_pixels_1097000051.gpkg\n",
      "download: s3://ciroh-owp-hand-fim/hand_fim_4_5_2_11/03020202/branches/1097000053/src_full_crosswalked_1097000053.csv to output/flood_03020202/03020202/branches/1097000053/src_full_crosswalked_1097000053.csv\n",
      "download: s3://ciroh-owp-hand-fim/hand_fim_4_5_2_11/03020202/branches/1097000054/backpool_stats.csv to output/flood_03020202/03020202/branches/1097000054/backpool_stats.csv\n",
      "download: s3://ciroh-owp-hand-fim/hand_fim_4_5_2_11/03020202/branches/1097000053/src_base_1097000053.csv to output/flood_03020202/03020202/branches/1097000053/src_base_1097000053.csv\n",
      "download: s3://ciroh-owp-hand-fim/hand_fim_4_5_2_11/03020202/branches/1097000054/src_base_1097000054.csv to output/flood_03020202/03020202/branches/1097000054/src_base_1097000054.csv\n",
      "download: s3://ciroh-owp-hand-fim/hand_fim_4_5_2_11/03020202/branches/1097000054/demDerived_reaches_split_filtered_addedAttributes_crosswalked_1097000054.gpkg to output/flood_03020202/03020202/branches/1097000054/demDerived_reaches_split_filtered_addedAttributes_crosswalked_1097000054.gpkg\n",
      "download: s3://ciroh-owp-hand-fim/hand_fim_4_5_2_11/03020202/branches/1097000054/osm_bridge_centroids_1097000054.gpkg to output/flood_03020202/03020202/branches/1097000054/osm_bridge_centroids_1097000054.gpkg\n",
      "download: s3://ciroh-owp-hand-fim/hand_fim_4_5_2_11/03020202/branches/1097000054/rem_zeroed_masked_1097000054.tif to output/flood_03020202/03020202/branches/1097000054/rem_zeroed_masked_1097000054.tif\n",
      "download: s3://ciroh-owp-hand-fim/hand_fim_4_5_2_11/03020202/branches/1097000052/gw_catchments_pixels_1097000052.gpkg to output/flood_03020202/03020202/branches/1097000052/gw_catchments_pixels_1097000052.gpkg\n",
      "download: s3://ciroh-owp-hand-fim/hand_fim_4_5_2_11/03020202/branches/1097000054/src_full_crosswalked_1097000054.csv to output/flood_03020202/03020202/branches/1097000054/src_full_crosswalked_1097000054.csv\n",
      "download: s3://ciroh-owp-hand-fim/hand_fim_4_5_2_11/03020202/branches/1097000055/gw_catchments_reaches_filtered_addedAttributes_1097000055.tif to output/flood_03020202/03020202/branches/1097000055/gw_catchments_reaches_filtered_addedAttributes_1097000055.tif\n",
      "download: s3://ciroh-owp-hand-fim/hand_fim_4_5_2_11/03020202/branches/1097000054/hydroTable_1097000054.csv to output/flood_03020202/03020202/branches/1097000054/hydroTable_1097000054.csv\n",
      "download: s3://ciroh-owp-hand-fim/hand_fim_4_5_2_11/03020202/branches/1097000055/backpool_stats.csv to output/flood_03020202/03020202/branches/1097000055/backpool_stats.csv\n",
      "download: s3://ciroh-owp-hand-fim/hand_fim_4_5_2_11/03020202/branches/1097000054/gw_catchments_pixels_1097000054.gpkg to output/flood_03020202/03020202/branches/1097000054/gw_catchments_pixels_1097000054.gpkg\n",
      "download: s3://ciroh-owp-hand-fim/hand_fim_4_5_2_11/03020202/branches/1097000055/osm_bridge_centroids_1097000055.gpkg to output/flood_03020202/03020202/branches/1097000055/osm_bridge_centroids_1097000055.gpkg\n",
      "download: s3://ciroh-owp-hand-fim/hand_fim_4_5_2_11/03020202/branches/1097000055/src_base_1097000055.csv to output/flood_03020202/03020202/branches/1097000055/src_base_1097000055.csv\n",
      "download: s3://ciroh-owp-hand-fim/hand_fim_4_5_2_11/03020202/branches/1097000055/demDerived_reaches_split_filtered_addedAttributes_crosswalked_1097000055.gpkg to output/flood_03020202/03020202/branches/1097000055/demDerived_reaches_split_filtered_addedAttributes_crosswalked_1097000055.gpkg\n",
      "download: s3://ciroh-owp-hand-fim/hand_fim_4_5_2_11/03020202/branches/1097000056/gw_catchments_reaches_filtered_addedAttributes_1097000056.tif to output/flood_03020202/03020202/branches/1097000056/gw_catchments_reaches_filtered_addedAttributes_1097000056.tif\n",
      "download: s3://ciroh-owp-hand-fim/hand_fim_4_5_2_11/03020202/branches/1097000055/hydroTable_1097000055.csv to output/flood_03020202/03020202/branches/1097000055/hydroTable_1097000055.csv\n",
      "download: s3://ciroh-owp-hand-fim/hand_fim_4_5_2_11/03020202/branches/1097000055/gw_catchments_reaches_filtered_addedAttributes_crosswalked_1097000055.gpkg to output/flood_03020202/03020202/branches/1097000055/gw_catchments_reaches_filtered_addedAttributes_crosswalked_1097000055.gpkg\n",
      "download: s3://ciroh-owp-hand-fim/hand_fim_4_5_2_11/03020202/branches/1097000047/rem_zeroed_masked_1097000047.tif to output/flood_03020202/03020202/branches/1097000047/rem_zeroed_masked_1097000047.tif\n",
      "download: s3://ciroh-owp-hand-fim/hand_fim_4_5_2_11/03020202/branches/1097000056/demDerived_reaches_split_filtered_addedAttributes_crosswalked_1097000056.gpkg to output/flood_03020202/03020202/branches/1097000056/demDerived_reaches_split_filtered_addedAttributes_crosswalked_1097000056.gpkg\n",
      "download: s3://ciroh-owp-hand-fim/hand_fim_4_5_2_11/03020202/branches/1097000056/src_full_crosswalked_1097000056.csv to output/flood_03020202/03020202/branches/1097000056/src_full_crosswalked_1097000056.csv\n",
      "download: s3://ciroh-owp-hand-fim/hand_fim_4_5_2_11/03020202/branches/1097000056/src_base_1097000056.csv to output/flood_03020202/03020202/branches/1097000056/src_base_1097000056.csv\n",
      "download: s3://ciroh-owp-hand-fim/hand_fim_4_5_2_11/03020202/branches/1097000056/gw_catchments_reaches_filtered_addedAttributes_crosswalked_1097000056.gpkg to output/flood_03020202/03020202/branches/1097000056/gw_catchments_reaches_filtered_addedAttributes_crosswalked_1097000056.gpkg\n",
      "download: s3://ciroh-owp-hand-fim/hand_fim_4_5_2_11/03020202/branches/1097000056/hydroTable_1097000056.csv to output/flood_03020202/03020202/branches/1097000056/hydroTable_1097000056.csv\n",
      "download: s3://ciroh-owp-hand-fim/hand_fim_4_5_2_11/03020202/branches/1097000055/src_full_crosswalked_1097000055.csv to output/flood_03020202/03020202/branches/1097000055/src_full_crosswalked_1097000055.csv\n",
      "download: s3://ciroh-owp-hand-fim/hand_fim_4_5_2_11/03020202/branches/1097000056/backpool_stats.csv to output/flood_03020202/03020202/branches/1097000056/backpool_stats.csv\n",
      "download: s3://ciroh-owp-hand-fim/hand_fim_4_5_2_11/03020202/branches/1097000056/osm_bridge_centroids_1097000056.gpkg to output/flood_03020202/03020202/branches/1097000056/osm_bridge_centroids_1097000056.gpkg\n",
      "download: s3://ciroh-owp-hand-fim/hand_fim_4_5_2_11/03020202/branches/1097000057/gw_catchments_reaches_filtered_addedAttributes_1097000057.tif to output/flood_03020202/03020202/branches/1097000057/gw_catchments_reaches_filtered_addedAttributes_1097000057.tif\n",
      "download: s3://ciroh-owp-hand-fim/hand_fim_4_5_2_11/03020202/branches/1097000056/gw_catchments_pixels_1097000056.gpkg to output/flood_03020202/03020202/branches/1097000056/gw_catchments_pixels_1097000056.gpkg\n",
      "download: s3://ciroh-owp-hand-fim/hand_fim_4_5_2_11/03020202/branches/1097000057/backpool_stats.csv to output/flood_03020202/03020202/branches/1097000057/backpool_stats.csv\n",
      "download: s3://ciroh-owp-hand-fim/hand_fim_4_5_2_11/03020202/branches/1097000057/demDerived_reaches_split_filtered_addedAttributes_crosswalked_1097000057.gpkg to output/flood_03020202/03020202/branches/1097000057/demDerived_reaches_split_filtered_addedAttributes_crosswalked_1097000057.gpkg\n",
      "download: s3://ciroh-owp-hand-fim/hand_fim_4_5_2_11/03020202/branches/1097000057/src_base_1097000057.csv to output/flood_03020202/03020202/branches/1097000057/src_base_1097000057.csv\n",
      "download: s3://ciroh-owp-hand-fim/hand_fim_4_5_2_11/03020202/branches/1097000057/osm_bridge_centroids_1097000057.gpkg to output/flood_03020202/03020202/branches/1097000057/osm_bridge_centroids_1097000057.gpkg\n",
      "download: s3://ciroh-owp-hand-fim/hand_fim_4_5_2_11/03020202/branches/1097000057/gw_catchments_reaches_filtered_addedAttributes_crosswalked_1097000057.gpkg to output/flood_03020202/03020202/branches/1097000057/gw_catchments_reaches_filtered_addedAttributes_crosswalked_1097000057.gpkg\n",
      "download: s3://ciroh-owp-hand-fim/hand_fim_4_5_2_11/03020202/branches/1097000058/backpool_stats.csv to output/flood_03020202/03020202/branches/1097000058/backpool_stats.csv\n",
      "download: s3://ciroh-owp-hand-fim/hand_fim_4_5_2_11/03020202/branches/1097000058/demDerived_reaches_split_filtered_addedAttributes_crosswalked_1097000058.gpkg to output/flood_03020202/03020202/branches/1097000058/demDerived_reaches_split_filtered_addedAttributes_crosswalked_1097000058.gpkg\n",
      "download: s3://ciroh-owp-hand-fim/hand_fim_4_5_2_11/03020202/branches/1097000058/gw_catchments_reaches_filtered_addedAttributes_crosswalked_1097000058.gpkg to output/flood_03020202/03020202/branches/1097000058/gw_catchments_reaches_filtered_addedAttributes_crosswalked_1097000058.gpkg\n",
      "download: s3://ciroh-owp-hand-fim/hand_fim_4_5_2_11/03020202/branches/1097000058/hydroTable_1097000058.csv to output/flood_03020202/03020202/branches/1097000058/hydroTable_1097000058.csv\n",
      "download: s3://ciroh-owp-hand-fim/hand_fim_4_5_2_11/03020202/branches/1097000057/hydroTable_1097000057.csv to output/flood_03020202/03020202/branches/1097000057/hydroTable_1097000057.csv\n",
      "download: s3://ciroh-owp-hand-fim/hand_fim_4_5_2_11/03020202/branches/1097000057/gw_catchments_pixels_1097000057.gpkg to output/flood_03020202/03020202/branches/1097000057/gw_catchments_pixels_1097000057.gpkg\n",
      "download: s3://ciroh-owp-hand-fim/hand_fim_4_5_2_11/03020202/branches/1097000053/rem_zeroed_masked_1097000053.tif to output/flood_03020202/03020202/branches/1097000053/rem_zeroed_masked_1097000053.tif\n",
      "download: s3://ciroh-owp-hand-fim/hand_fim_4_5_2_11/03020202/branches/1097000058/osm_bridge_centroids_1097000058.gpkg to output/flood_03020202/03020202/branches/1097000058/osm_bridge_centroids_1097000058.gpkg\n",
      "download: s3://ciroh-owp-hand-fim/hand_fim_4_5_2_11/03020202/branches/1097000057/src_full_crosswalked_1097000057.csv to output/flood_03020202/03020202/branches/1097000057/src_full_crosswalked_1097000057.csv\n",
      "download: s3://ciroh-owp-hand-fim/hand_fim_4_5_2_11/03020202/branches/1097000058/src_base_1097000058.csv to output/flood_03020202/03020202/branches/1097000058/src_base_1097000058.csv\n",
      "download: s3://ciroh-owp-hand-fim/hand_fim_4_5_2_11/03020202/branches/1097000058/gw_catchments_reaches_filtered_addedAttributes_1097000058.tif to output/flood_03020202/03020202/branches/1097000058/gw_catchments_reaches_filtered_addedAttributes_1097000058.tif\n",
      "download: s3://ciroh-owp-hand-fim/hand_fim_4_5_2_11/03020202/branches/1097000055/gw_catchments_pixels_1097000055.gpkg to output/flood_03020202/03020202/branches/1097000055/gw_catchments_pixels_1097000055.gpkg\n",
      "download: s3://ciroh-owp-hand-fim/hand_fim_4_5_2_11/03020202/branches/1097000059/gw_catchments_reaches_filtered_addedAttributes_1097000059.tif to output/flood_03020202/03020202/branches/1097000059/gw_catchments_reaches_filtered_addedAttributes_1097000059.tif\n",
      "download: s3://ciroh-owp-hand-fim/hand_fim_4_5_2_11/03020202/branches/1097000058/src_full_crosswalked_1097000058.csv to output/flood_03020202/03020202/branches/1097000058/src_full_crosswalked_1097000058.csv\n",
      "download: s3://ciroh-owp-hand-fim/hand_fim_4_5_2_11/03020202/branches/1097000058/gw_catchments_pixels_1097000058.gpkg to output/flood_03020202/03020202/branches/1097000058/gw_catchments_pixels_1097000058.gpkg\n",
      "download: s3://ciroh-owp-hand-fim/hand_fim_4_5_2_11/03020202/branches/1097000059/backpool_stats.csv to output/flood_03020202/03020202/branches/1097000059/backpool_stats.csv\n",
      "download: s3://ciroh-owp-hand-fim/hand_fim_4_5_2_11/03020202/branches/1097000059/demDerived_reaches_split_filtered_addedAttributes_crosswalked_1097000059.gpkg to output/flood_03020202/03020202/branches/1097000059/demDerived_reaches_split_filtered_addedAttributes_crosswalked_1097000059.gpkg\n",
      "download: s3://ciroh-owp-hand-fim/hand_fim_4_5_2_11/03020202/branches/1097000059/src_base_1097000059.csv to output/flood_03020202/03020202/branches/1097000059/src_base_1097000059.csv\n",
      "download: s3://ciroh-owp-hand-fim/hand_fim_4_5_2_11/03020202/branches/1097000059/gw_catchments_reaches_filtered_addedAttributes_crosswalked_1097000059.gpkg to output/flood_03020202/03020202/branches/1097000059/gw_catchments_reaches_filtered_addedAttributes_crosswalked_1097000059.gpkg\n",
      "download: s3://ciroh-owp-hand-fim/hand_fim_4_5_2_11/03020202/branches/1097000056/rem_zeroed_masked_1097000056.tif to output/flood_03020202/03020202/branches/1097000056/rem_zeroed_masked_1097000056.tif\n",
      "download: s3://ciroh-owp-hand-fim/hand_fim_4_5_2_11/03020202/branches/1097000051/rem_zeroed_masked_1097000051.tif to output/flood_03020202/03020202/branches/1097000051/rem_zeroed_masked_1097000051.tif\n",
      "download: s3://ciroh-owp-hand-fim/hand_fim_4_5_2_11/03020202/branches/1097000057/rem_zeroed_masked_1097000057.tif to output/flood_03020202/03020202/branches/1097000057/rem_zeroed_masked_1097000057.tif\n",
      "download: s3://ciroh-owp-hand-fim/hand_fim_4_5_2_11/03020202/branches/1097000058/rem_zeroed_masked_1097000058.tif to output/flood_03020202/03020202/branches/1097000058/rem_zeroed_masked_1097000058.tif\n",
      "download: s3://ciroh-owp-hand-fim/hand_fim_4_5_2_11/03020202/branches/1097000059/gw_catchments_pixels_1097000059.gpkg to output/flood_03020202/03020202/branches/1097000059/gw_catchments_pixels_1097000059.gpkg\n",
      "download: s3://ciroh-owp-hand-fim/hand_fim_4_5_2_11/03020202/branches/1097000059/rem_zeroed_masked_1097000059.tif to output/flood_03020202/03020202/branches/1097000059/rem_zeroed_masked_1097000059.tif\n",
      "download: s3://ciroh-owp-hand-fim/hand_fim_4_5_2_11/03020202/branches/1097000055/rem_zeroed_masked_1097000055.tif to output/flood_03020202/03020202/branches/1097000055/rem_zeroed_masked_1097000055.tif\n",
      "download: s3://ciroh-owp-hand-fim/hand_fim_4_5_2_11/03020202/branches/1097000059/osm_bridge_centroids_1097000059.gpkg to output/flood_03020202/03020202/branches/1097000059/osm_bridge_centroids_1097000059.gpkg\n",
      "download: s3://ciroh-owp-hand-fim/hand_fim_4_5_2_11/03020202/branches/1097000059/hydroTable_1097000059.csv to output/flood_03020202/03020202/branches/1097000059/hydroTable_1097000059.csv\n",
      "download: s3://ciroh-owp-hand-fim/hand_fim_4_5_2_11/03020202/nwm_headwater_points_subset.gpkg to output/flood_03020202/03020202/nwm_headwater_points_subset.gpkg\n",
      "download: s3://ciroh-owp-hand-fim/hand_fim_4_5_2_11/03020202/branches/1097000059/src_full_crosswalked_1097000059.csv to output/flood_03020202/03020202/branches/1097000059/src_full_crosswalked_1097000059.csv\n",
      "download: s3://ciroh-owp-hand-fim/hand_fim_4_5_2_11/03020202/nwm_subset_streams_levelPaths.gpkg to output/flood_03020202/03020202/nwm_subset_streams_levelPaths.gpkg\n",
      "download: s3://ciroh-owp-hand-fim/hand_fim_4_5_2_11/03020202/branches/1097000059/user_supplied_n_vals_1097000059.csv to output/flood_03020202/03020202/branches/1097000059/user_supplied_n_vals_1097000059.csv\n",
      "download: s3://ciroh-owp-hand-fim/hand_fim_4_5_2_11/03020202/nwm_subset_streams.gpkg to output/flood_03020202/03020202/nwm_subset_streams.gpkg\n",
      "download: s3://ciroh-owp-hand-fim/hand_fim_4_5_2_11/03020202/nwm_subset_streams_levelPaths_dissolved_headwaters.gpkg to output/flood_03020202/03020202/nwm_subset_streams_levelPaths_dissolved_headwaters.gpkg\n",
      "download: s3://ciroh-owp-hand-fim/hand_fim_4_5_2_11/03020202/osm_bridge_centroids.gpkg to output/flood_03020202/03020202/osm_bridge_centroids.gpkg\n",
      "download: s3://ciroh-owp-hand-fim/hand_fim_4_5_2_11/03020202/usgs_elev_table.csv to output/flood_03020202/03020202/usgs_elev_table.csv\n",
      "download: s3://ciroh-owp-hand-fim/hand_fim_4_5_2_11/03020202/nwm_subset_streams_levelPaths_dissolved.gpkg to output/flood_03020202/03020202/nwm_subset_streams_levelPaths_dissolved.gpkg\n",
      "download: s3://ciroh-owp-hand-fim/hand_fim_4_5_2_11/03020202/nwm_catchments_proj_subset_levelPaths.gpkg to output/flood_03020202/03020202/nwm_catchments_proj_subset_levelPaths.gpkg\n",
      "download: s3://ciroh-owp-hand-fim/hand_fim_4_5_2_11/03020202/usgs_subset_gages.gpkg to output/flood_03020202/03020202/usgs_subset_gages.gpkg\n",
      "download: s3://ciroh-owp-hand-fim/hand_fim_4_5_2_11/03020202/wbd8_clp.gpkg to output/flood_03020202/03020202/wbd8_clp.gpkg\n",
      "download: s3://ciroh-owp-hand-fim/hand_fim_4_5_2_11/03020202/wbd.gpkg to output/flood_03020202/03020202/wbd.gpkg\n",
      "download: s3://ciroh-owp-hand-fim/hand_fim_4_5_2_11/03020202/usgs_subset_gages_0.gpkg to output/flood_03020202/03020202/usgs_subset_gages_0.gpkg\n",
      "download: s3://ciroh-owp-hand-fim/hand_fim_4_5_2_11/03020202/osm_bridges_subset.gpkg to output/flood_03020202/03020202/osm_bridges_subset.gpkg\n",
      "download: s3://ciroh-owp-hand-fim/hand_fim_4_5_2_11/03020202/hydrotable.csv to output/flood_03020202/03020202/hydrotable.csv\n",
      "download: s3://ciroh-owp-hand-fim/hand_fim_4_5_2_11/03020202/nwm_catchments_proj_subset.gpkg to output/flood_03020202/03020202/nwm_catchments_proj_subset.gpkg\n",
      "Data for HUC 03020202\n",
      "Copied the /Users/supath/Downloads/MSResearch/CNN/docs/FIMin3Steps/output/flood_03020202/03020202/branch_ids.csv to /Users/supath/Downloads/MSResearch/CNN/docs/FIMin3Steps/output/flood_03020202/fim_inputs.csv as fim_inputs.csv.\n",
      "Unique feature IDs saved to /Users/supath/Downloads/MSResearch/CNN/docs/FIMin3Steps/output/flood_03020202/feature_IDs.csv.\n"
     ]
    }
   ],
   "source": [
    "fm.DownloadHUC8(huc)    #Download the HUC8 data"
   ]
  },
  {
   "cell_type": "markdown",
   "metadata": {},
   "source": [
    "<h3 style=\"font-family: 'CMU Serif', serif; color: #000000;\">\n",
    "  Step 2: Get the NWM Data\n",
    "</h3>"
   ]
  },
  {
   "cell_type": "code",
   "execution_count": 6,
   "metadata": {},
   "outputs": [
    {
     "data": {
      "text/html": [
       "\n",
       "            <style>\n",
       "                .geemap-dark {\n",
       "                    --jp-widgets-color: white;\n",
       "                    --jp-widgets-label-color: white;\n",
       "                    --jp-ui-font-color1: white;\n",
       "                    --jp-layout-color2: #454545;\n",
       "                    background-color: #383838;\n",
       "                }\n",
       "\n",
       "                .geemap-dark .jupyter-button {\n",
       "                    --jp-layout-color3: #383838;\n",
       "                }\n",
       "\n",
       "                .geemap-colab {\n",
       "                    background-color: var(--colab-primary-surface-color, white);\n",
       "                }\n",
       "\n",
       "                .geemap-colab .jupyter-button {\n",
       "                    --jp-layout-color3: var(--colab-primary-surface-color, white);\n",
       "                }\n",
       "            </style>\n",
       "            "
      ],
      "text/plain": [
       "<IPython.core.display.HTML object>"
      ]
     },
     "metadata": {},
     "output_type": "display_data"
    },
    {
     "name": "stdout",
     "output_type": "stream",
     "text": [
      "NWM discharge data saved to /Users/supath/Downloads/MSResearch/CNN/docs/FIMin3Steps/output/flood_03020202/discharge/nwm30_retrospective.\n",
      "Discharge values saved to /Users/supath/Downloads/MSResearch/CNN/docs/FIMin3Steps/data/inputs/20161009030000_03020202.csv\n"
     ]
    }
   ],
   "source": [
    "fm.getNWMretrospectivedata(start_date, end_date, huc, value_time)   #Get the NWM retrospective streamflow data"
   ]
  },
  {
   "cell_type": "markdown",
   "metadata": {},
   "source": [
    "<h3 style=\"font-family: 'CMU Serif', serif; color: #000000;\">\n",
    "  Step 3: Run the OWP HAND to get flood inunation\n",
    "</h3>"
   ]
  },
  {
   "cell_type": "code",
   "execution_count": 7,
   "metadata": {},
   "outputs": [
    {
     "data": {
      "text/html": [
       "\n",
       "            <style>\n",
       "                .geemap-dark {\n",
       "                    --jp-widgets-color: white;\n",
       "                    --jp-widgets-label-color: white;\n",
       "                    --jp-ui-font-color1: white;\n",
       "                    --jp-layout-color2: #454545;\n",
       "                    background-color: #383838;\n",
       "                }\n",
       "\n",
       "                .geemap-dark .jupyter-button {\n",
       "                    --jp-layout-color3: #383838;\n",
       "                }\n",
       "\n",
       "                .geemap-colab {\n",
       "                    background-color: var(--colab-primary-surface-color, white);\n",
       "                }\n",
       "\n",
       "                .geemap-colab .jupyter-button {\n",
       "                    --jp-layout-color3: var(--colab-primary-surface-color, white);\n",
       "                }\n",
       "            </style>\n",
       "            "
      ],
      "text/plain": [
       "<IPython.core.display.HTML object>"
      ]
     },
     "metadata": {},
     "output_type": "display_data"
    },
    {
     "name": "stdout",
     "output_type": "stream",
     "text": [
      "Completed in 0.31 minutes.\n",
      "\n",
      "Inundation mapping for 03020202 completed successfully.\n"
     ]
    }
   ],
   "source": [
    "fm.runOWPHANDFIM(huc)       #Run the OWP-HAND FIM with the NWM retrospective streamflow data"
   ]
  },
  {
   "cell_type": "markdown",
   "metadata": {},
   "source": [
    "\n",
    "<h3 style=\"font-family: 'CMU Serif', serif; color: #000000;\">\n",
    "  Vizualizing the FIM\n",
    "</h3>"
   ]
  },
  {
   "cell_type": "code",
   "execution_count": 8,
   "metadata": {},
   "outputs": [
    {
     "data": {
      "text/html": [
       "\n",
       "            <style>\n",
       "                .geemap-dark {\n",
       "                    --jp-widgets-color: white;\n",
       "                    --jp-widgets-label-color: white;\n",
       "                    --jp-ui-font-color1: white;\n",
       "                    --jp-layout-color2: #454545;\n",
       "                    background-color: #383838;\n",
       "                }\n",
       "\n",
       "                .geemap-dark .jupyter-button {\n",
       "                    --jp-layout-color3: #383838;\n",
       "                }\n",
       "\n",
       "                .geemap-colab {\n",
       "                    background-color: var(--colab-primary-surface-color, white);\n",
       "                }\n",
       "\n",
       "                .geemap-colab .jupyter-button {\n",
       "                    --jp-layout-color3: var(--colab-primary-surface-color, white);\n",
       "                }\n",
       "            </style>\n",
       "            "
      ],
      "text/plain": [
       "<IPython.core.display.HTML object>"
      ]
     },
     "metadata": {},
     "output_type": "display_data"
    },
    {
     "data": {
      "application/vnd.jupyter.widget-view+json": {
       "model_id": "f1ed72c1c8f248e1ba9f6308a196e632",
       "version_major": 2,
       "version_minor": 0
      },
      "text/plain": [
       "Map(center=[1523133.8438746326, 1661275.6051740893], controls=(WidgetControl(options=['position', 'transparent…"
      ]
     },
     "execution_count": 8,
     "metadata": {},
     "output_type": "execute_result"
    }
   ],
   "source": [
    "#Enter the HUC id for the vizualization that you are working and have generated FIMS already\n",
    "MapZoom = 8\n",
    "#Path of inundation raster\n",
    "inundation_raster = '/Users/supath/Downloads/MSResearch/CNN/docs/FIMin3Steps/output/flood_03020202/03020202_inundation/20161009030000_inundation.tif'\n",
    "\n",
    "fm.vizualizeFIM(inundation_raster, huc, MapZoom)"
   ]
  },
  {
   "cell_type": "code",
   "execution_count": null,
   "metadata": {},
   "outputs": [],
   "source": []
  }
 ],
 "metadata": {
  "kernelspec": {
   "display_name": "fimserve",
   "language": "python",
   "name": "python3"
  },
  "language_info": {
   "codemirror_mode": {
    "name": "ipython",
    "version": 3
   },
   "file_extension": ".py",
   "mimetype": "text/x-python",
   "name": "python",
   "nbconvert_exporter": "python",
   "pygments_lexer": "ipython3",
   "version": "3.10.0"
  }
 },
 "nbformat": 4,
 "nbformat_minor": 4
}
