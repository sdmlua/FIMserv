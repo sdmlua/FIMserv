{
 "cells": [
  {
   "cell_type": "markdown",
   "metadata": {},
   "source": [
    "<h2 style=\"font-family: 'CMU Serif', serif; color: #000000;\">\n",
    "  OWP HAND-FIM 'as a service' (FIMserv)\n",
    "</h2>\n",
    "<h5 style=\"font-family: 'CMU Serif', serif; color: #000000;\">\n",
    "  This package presents a streamlined, user-friendly and cloud-enabled pipeline to generate Operational flood inundation maps using the NOAA Office of Water Prediction (OWP) Height Above Nearest Drainage (HAND) Flood Inundation Mapping (FIM) framework using the National Water Model retrospective and forecasted streamflow. It is developed under the Surface Dynamics Modeling Lab (SDML) as part of a project funded by the Cooperative Institute for Research to Operations in Hydrology (CIROH).\n",
    "</h5>\n",
    "<h5 style=\"font-family: 'CMU Serif', serif; color: #000000;\">\n",
    "  These steps can be completed in only 3 steps:\n",
    "</h5>\n",
    "<ol style=\"font-family: 'CMU Serif', serif; color: #000000;\">\n",
    "  <li>Download HUC 8 (Hydrologic Unit Code 8) rasters</li>\n",
    "  <li>Download the National Water Model (NWM) retrospective streamflow</li>\n",
    "  <li>Generate the Flood Inundation Map (FIM)</li>\n",
    "</ol>\n",
    "\n",
    "</h5>\n",
    "<h5 style=\"font-family: 'CMU Serif', serif; color: #000000;\">\n",
    "  Note: This is the same code usage to generate FIM in 3 step for 1 HUC8, user can always use this for numbers of HUC8 using loop. This is generalized, so there will not be any issue with any numbers of HUC.\n",
    "</h5>\n"
   ]
  },
  {
   "cell_type": "code",
   "execution_count": 9,
   "metadata": {},
   "outputs": [
    {
     "data": {
      "text/html": [
       "\n",
       "            <style>\n",
       "                .geemap-dark {\n",
       "                    --jp-widgets-color: white;\n",
       "                    --jp-widgets-label-color: white;\n",
       "                    --jp-ui-font-color1: white;\n",
       "                    --jp-layout-color2: #454545;\n",
       "                    background-color: #383838;\n",
       "                }\n",
       "\n",
       "                .geemap-dark .jupyter-button {\n",
       "                    --jp-layout-color3: #383838;\n",
       "                }\n",
       "\n",
       "                .geemap-colab {\n",
       "                    background-color: var(--colab-primary-surface-color, white);\n",
       "                }\n",
       "\n",
       "                .geemap-colab .jupyter-button {\n",
       "                    --jp-layout-color3: var(--colab-primary-surface-color, white);\n",
       "                }\n",
       "            </style>\n",
       "            "
      ],
      "text/plain": [
       "<IPython.core.display.HTML object>"
      ]
     },
     "metadata": {},
     "output_type": "display_data"
    }
   ],
   "source": [
    "#Install the FIMserv package\n",
    "%pip install fimserve"
   ]
  },
  {
   "cell_type": "markdown",
   "metadata": {},
   "source": [
    "<h5 style=\"font-family: 'CMU Serif', serif; color: #000000;\">\n",
    "Providing the HUC8 ID and event time:\n",
    "\n",
    "The OWP HAND FIM model runs at the HUC-8 watershed scale. Users need to identify the HUC8 ID for their specific region of interest. In this example, we are using the Neuse River Flooding in North Carolina from Hurricane Matthew, 2016. The HUC8 ID is `03020202`. The locations and information about the HUC8 IDs are available here in [ArcGIS Instant App.](https://ualabama.maps.arcgis.com/apps/instant/basic/index.html?appid=88789b151b50430d8e840d573225b36b)\n",
    "</h5>\n",
    "\n"
   ]
  },
  {
   "cell_type": "code",
   "execution_count": 3,
   "metadata": {},
   "outputs": [],
   "source": [
    "#Import fimserve package\n",
    "import fimserve as fm   # type: ignore"
   ]
  },
  {
   "cell_type": "code",
   "execution_count": 4,
   "metadata": {},
   "outputs": [
    {
     "data": {
      "text/html": [
       "\n",
       "            <style>\n",
       "                .geemap-dark {\n",
       "                    --jp-widgets-color: white;\n",
       "                    --jp-widgets-label-color: white;\n",
       "                    --jp-ui-font-color1: white;\n",
       "                    --jp-layout-color2: #454545;\n",
       "                    background-color: #383838;\n",
       "                }\n",
       "\n",
       "                .geemap-dark .jupyter-button {\n",
       "                    --jp-layout-color3: #383838;\n",
       "                }\n",
       "\n",
       "                .geemap-colab {\n",
       "                    background-color: var(--colab-primary-surface-color, white);\n",
       "                }\n",
       "\n",
       "                .geemap-colab .jupyter-button {\n",
       "                    --jp-layout-color3: var(--colab-primary-surface-color, white);\n",
       "                }\n",
       "            </style>\n",
       "            "
      ],
      "text/plain": [
       "<IPython.core.display.HTML object>"
      ]
     },
     "metadata": {},
     "output_type": "display_data"
    }
   ],
   "source": [
    "# Initialize necessary variables\n",
    "huc = \"03020202\"        #HUC of the watershed\n",
    "start_date = \"2016-10-08\"   #Start date of the streamflow data user want to get\n",
    "end_date = \"2016-10-10\"     #End date of the streamflow data user want to get\n",
    "\n",
    "value_time = [\"2016-10-09 03:00:00\"]   #Time of the streamflow data user want to generate FIM within start_date and end_date"
   ]
  },
  {
   "cell_type": "markdown",
   "metadata": {},
   "source": [
    "<h3 style=\"font-family: 'CMU Serif', serif; color: #000000;\">\n",
    "  Step 1: Download HUC8\n",
    "</h3>"
   ]
  },
  {
   "cell_type": "code",
   "execution_count": 1,
   "metadata": {},
   "outputs": [],
   "source": [
    "fm.DownloadHUC8(huc)    #Download the HUC8 data"
   ]
  },
  {
   "cell_type": "markdown",
   "metadata": {},
   "source": [
    "<h3 style=\"font-family: 'CMU Serif', serif; color: #000000;\">\n",
    "  Step 2: Get the NWM Data\n",
    "</h3>"
   ]
  },
  {
   "cell_type": "code",
   "execution_count": null,
   "metadata": {},
   "outputs": [
    {
     "data": {
      "text/html": [
       "\n",
       "            <style>\n",
       "                .geemap-dark {\n",
       "                    --jp-widgets-color: white;\n",
       "                    --jp-widgets-label-color: white;\n",
       "                    --jp-ui-font-color1: white;\n",
       "                    --jp-layout-color2: #454545;\n",
       "                    background-color: #383838;\n",
       "                }\n",
       "\n",
       "                .geemap-dark .jupyter-button {\n",
       "                    --jp-layout-color3: #383838;\n",
       "                }\n",
       "\n",
       "                .geemap-colab {\n",
       "                    background-color: var(--colab-primary-surface-color, white);\n",
       "                }\n",
       "\n",
       "                .geemap-colab .jupyter-button {\n",
       "                    --jp-layout-color3: var(--colab-primary-surface-color, white);\n",
       "                }\n",
       "            </style>\n",
       "            "
      ],
      "text/plain": [
       "<IPython.core.display.HTML object>"
      ]
     },
     "metadata": {},
     "output_type": "display_data"
    },
    {
     "name": "stdout",
     "output_type": "stream",
     "text": [
      "NWM discharge data saved to /Users/supath/Downloads/MSResearch/CNN/docs/FIMin3Steps/output/flood_03020202/discharge/nwm30_retrospective.\n",
      "Discharge values saved to /Users/supath/Downloads/MSResearch/CNN/docs/FIMin3Steps/data/inputs/20161009030000_03020202.csv\n"
     ]
    }
   ],
   "source": [
    "fm.getNWMretrospectivedata(huc, start_date, end_date, value_time)   #Get the NWM retrospective streamflow data"
   ]
  },
  {
   "cell_type": "code",
   "execution_count": null,
   "metadata": {},
   "outputs": [],
   "source": [
    "#For multiple HUCs and Multiple events for each huc\n",
    "#Here for sample usage, here are the tho huc IDs (03020202, 12060102) are put as a key and respective events for those watersheds as items in a dictionary 'huc_event_dict'\n",
    "huc_event_dict = {\n",
    "    \"03020202\": [\"2016-10-08 15:00:00\", \"2016-10-08\"],\n",
    "    \"12060102\": [\"2016-10-09 15:00:00\", \"2016-10-09 16:00:00\", \"2016-10-09 17:00:00\"]\n",
    "}\n",
    "fm.getNWMretrospectivedata(huc_event_dict=huc_event_dict)"
   ]
  },
  {
   "cell_type": "markdown",
   "metadata": {},
   "source": [
    "<h3 style=\"font-family: 'CMU Serif', serif; color: #000000;\">\n",
    "  Step 3: Run the OWP HAND to get flood inunation\n",
    "\n",
    "  This module is used to run the OWP HAND FIM model.Generated inundation rasters are saved in the output directory in .tiff format. The final flood inundation maps will be saved in the ```Path(./output/flood_hucID/hucID/hucID_inundation/[discharge-basename]_inundation.tif```\n",
    "\n",
    "  This will generate the inundation based on the discahrge availability of running hucID in  ```Path(./data/inputs/)``` and those discharge file name should contain the hucID if user is using some synthetic or their own discahrge. Basically it will take discharges based on the hucID on the file name- which is automated for the NWM retrospective and forecasted pipeline using this tool.\n",
    "</h3>"
   ]
  },
  {
   "cell_type": "code",
   "execution_count": 7,
   "metadata": {},
   "outputs": [
    {
     "data": {
      "text/html": [
       "\n",
       "            <style>\n",
       "                .geemap-dark {\n",
       "                    --jp-widgets-color: white;\n",
       "                    --jp-widgets-label-color: white;\n",
       "                    --jp-ui-font-color1: white;\n",
       "                    --jp-layout-color2: #454545;\n",
       "                    background-color: #383838;\n",
       "                }\n",
       "\n",
       "                .geemap-dark .jupyter-button {\n",
       "                    --jp-layout-color3: #383838;\n",
       "                }\n",
       "\n",
       "                .geemap-colab {\n",
       "                    background-color: var(--colab-primary-surface-color, white);\n",
       "                }\n",
       "\n",
       "                .geemap-colab .jupyter-button {\n",
       "                    --jp-layout-color3: var(--colab-primary-surface-color, white);\n",
       "                }\n",
       "            </style>\n",
       "            "
      ],
      "text/plain": [
       "<IPython.core.display.HTML object>"
      ]
     },
     "metadata": {},
     "output_type": "display_data"
    },
    {
     "name": "stdout",
     "output_type": "stream",
     "text": [
      "Completed in 0.31 minutes.\n",
      "\n",
      "Inundation mapping for 03020202 completed successfully.\n"
     ]
    }
   ],
   "source": [
    "fm.runOWPHANDFIM(huc)       #Run the OWP-HAND FIM with the NWM retrospective streamflow data"
   ]
  },
  {
   "cell_type": "markdown",
   "metadata": {},
   "source": [
    "\n",
    "<h3 style=\"font-family: 'CMU Serif', serif; color: #000000;\">\n",
    "  Vizualizing the FIM\n",
    "</h3>"
   ]
  },
  {
   "cell_type": "code",
   "execution_count": 8,
   "metadata": {},
   "outputs": [
    {
     "data": {
      "text/html": [
       "\n",
       "            <style>\n",
       "                .geemap-dark {\n",
       "                    --jp-widgets-color: white;\n",
       "                    --jp-widgets-label-color: white;\n",
       "                    --jp-ui-font-color1: white;\n",
       "                    --jp-layout-color2: #454545;\n",
       "                    background-color: #383838;\n",
       "                }\n",
       "\n",
       "                .geemap-dark .jupyter-button {\n",
       "                    --jp-layout-color3: #383838;\n",
       "                }\n",
       "\n",
       "                .geemap-colab {\n",
       "                    background-color: var(--colab-primary-surface-color, white);\n",
       "                }\n",
       "\n",
       "                .geemap-colab .jupyter-button {\n",
       "                    --jp-layout-color3: var(--colab-primary-surface-color, white);\n",
       "                }\n",
       "            </style>\n",
       "            "
      ],
      "text/plain": [
       "<IPython.core.display.HTML object>"
      ]
     },
     "metadata": {},
     "output_type": "display_data"
    },
    {
     "data": {
      "application/vnd.jupyter.widget-view+json": {
       "model_id": "f1ed72c1c8f248e1ba9f6308a196e632",
       "version_major": 2,
       "version_minor": 0
      },
      "text/plain": [
       "Map(center=[1523133.8438746326, 1661275.6051740893], controls=(WidgetControl(options=['position', 'transparent…"
      ]
     },
     "execution_count": 8,
     "metadata": {},
     "output_type": "execute_result"
    }
   ],
   "source": [
    "#Enter the HUC id for the vizualization that you are working and have generated FIMS already\n",
    "MapZoom = 8\n",
    "#Path of inundation raster\n",
    "inundation_raster = 'path/to/the/inundation_raster'\n",
    "\n",
    "fm.vizualizeFIM(inundation_raster, huc, MapZoom)"
   ]
  }
 ],
 "metadata": {
  "kernelspec": {
   "display_name": "fimserve",
   "language": "python",
   "name": "python3"
  },
  "language_info": {
   "codemirror_mode": {
    "name": "ipython",
    "version": 3
   },
   "file_extension": ".py",
   "mimetype": "text/x-python",
   "name": "python",
   "nbconvert_exporter": "python",
   "pygments_lexer": "ipython3",
   "version": "3.10.0"
  }
 },
 "nbformat": 4,
 "nbformat_minor": 4
}
